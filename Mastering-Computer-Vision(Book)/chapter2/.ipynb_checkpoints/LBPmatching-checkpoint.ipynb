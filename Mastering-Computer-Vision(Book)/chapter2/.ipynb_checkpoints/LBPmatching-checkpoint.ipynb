{
 "cells": [
  {
   "cell_type": "code",
   "execution_count": 2,
   "metadata": {},
   "outputs": [],
   "source": [
    "from skimage.transform import rotate\n",
    "from skimage.feature import local_binary_pattern\n",
    "from skimage import data\n",
    "from skimage.color import label2rgb\n",
    "import numpy as np\n",
    "import matplotlib.pyplot as plt\n",
    "%matplotlib inline\n",
    "import cv2\n",
    "import os\n",
    "from PIL import Image\n",
    "from scipy import ndimage\n",
    "from scipy import spatial\n",
    "import tensorflow as tf\n",
    "#import imagehash\n",
    "from scipy.stats import wasserstein_distance\n",
    "from scipy.spatial import distance as dist"
   ]
  },
  {
   "cell_type": "code",
   "execution_count": 3,
   "metadata": {},
   "outputs": [],
   "source": [
    "#Chapter2_input_images_for code/patterndata"
   ]
  },
  {
   "cell_type": "code",
   "execution_count": 4,
   "metadata": {},
   "outputs": [],
   "source": [
    "path_train = 'Chapter2_input_images_for code/patterndata/train'\n",
    "path_test = 'Chapter2_input_images_for code/patterndata/test'"
   ]
  },
  {
   "cell_type": "code",
   "execution_count": 5,
   "metadata": {},
   "outputs": [],
   "source": [
    "radius = 5\n",
    "num_pts = 25\n",
    "match=0"
   ]
  },
  {
   "cell_type": "code",
   "execution_count": 7,
   "metadata": {},
   "outputs": [
    {
     "data": {
      "text/plain": [
       "['plain1train.jpeg',\n",
       " 'pattern6train.jpeg',\n",
       " 'plain3train.jpeg',\n",
       " 'pattern5train.jpeg',\n",
       " 'pattern3train.jpeg',\n",
       " 'pattern7train.jpeg',\n",
       " 'plain4train.jpeg',\n",
       " 'pattern4train.jpeg',\n",
       " 'pattern2train.jpeg',\n",
       " 'plain2train.jpeg',\n",
       " 'pattern1train.jpeg']"
      ]
     },
     "execution_count": 7,
     "metadata": {},
     "output_type": "execute_result"
    }
   ],
   "source": [
    "os.listdir(path_train)"
   ]
  },
  {
   "cell_type": "code",
   "execution_count": 8,
   "metadata": {},
   "outputs": [
    {
     "name": "stdout",
     "output_type": "stream",
     "text": [
      "Chapter2_input_images_for code/patterndata/train/plain1train.jpeg\n",
      "Chapter2_input_images_for code/patterndata/train/pattern6train.jpeg\n",
      "Chapter2_input_images_for code/patterndata/train/plain3train.jpeg\n",
      "Chapter2_input_images_for code/patterndata/train/pattern5train.jpeg\n",
      "Chapter2_input_images_for code/patterndata/train/pattern3train.jpeg\n",
      "Chapter2_input_images_for code/patterndata/train/pattern7train.jpeg\n",
      "Chapter2_input_images_for code/patterndata/train/plain4train.jpeg\n",
      "Chapter2_input_images_for code/patterndata/train/pattern4train.jpeg\n",
      "Chapter2_input_images_for code/patterndata/train/pattern2train.jpeg\n",
      "Chapter2_input_images_for code/patterndata/train/plain2train.jpeg\n",
      "Chapter2_input_images_for code/patterndata/train/pattern1train.jpeg\n"
     ]
    }
   ],
   "source": [
    "lbp_train_features=[]\n",
    "train_data = []\n",
    "for filename in os.listdir(path_train):\n",
    "    image_train = os.path.join(path_train, filename)\n",
    "    print(image_train)\n",
    "    trainimg = Image.open(image_train)\n",
    "    trainarr = np.asarray(trainimg)\n",
    "    traingray = cv2.cvtColor(trainarr, cv2.COLOR_BGR2GRAY)\n",
    "    train_lbp = local_binary_pattern(traingray, num_pts, radius, 'uniform')\n",
    "    lbp_train_features.append(train_lbp)\n",
    "    train_data.append(filename)"
   ]
  },
  {
   "cell_type": "code",
   "execution_count": 12,
   "metadata": {},
   "outputs": [
    {
     "data": {
      "text/plain": [
       "<matplotlib.image.AxesImage at 0x7f05eab68cd0>"
      ]
     },
     "execution_count": 12,
     "metadata": {},
     "output_type": "execute_result"
    },
    {
     "data": {
      "image/png": "[encoded data removed]",
      "text/plain": [
       "<Figure size 432x288 with 1 Axes>"
      ]
     },
     "metadata": {
      "needs_background": "light"
     },
     "output_type": "display_data"
    }
   ],
   "source": [
    "plt.imshow(traingray)"
   ]
  },
  {
   "cell_type": "code",
   "execution_count": 9,
   "metadata": {},
   "outputs": [
    {
     "data": {
      "text/plain": [
       "[array([[ 0.,  2.,  0., ...,  8., 26., 26.],\n",
       "        [ 2., 26.,  1., ..., 26., 26., 26.],\n",
       "        [ 0.,  2.,  3., ..., 26.,  9.,  9.],\n",
       "        ...,\n",
       "        [ 7.,  1., 26., ...,  1.,  9.,  1.],\n",
       "        [ 0., 26.,  9., ...,  3., 26., 26.],\n",
       "        [26., 26.,  8., ...,  0., 26., 26.]]),\n",
       " array([[ 1.,  3.,  1., ...,  1.,  1.,  6.],\n",
       "        [ 2.,  2.,  2., ...,  1.,  2.,  8.],\n",
       "        [ 2.,  3., 26., ..., 26., 26., 26.],\n",
       "        ...,\n",
       "        [26.,  0., 26., ...,  9.,  5.,  7.],\n",
       "        [ 2.,  1., 26., ..., 26., 26., 26.],\n",
       "        [ 2.,  2., 26., ..., 26., 26., 26.]]),\n",
       " array([[26.,  6.,  4., ...,  2.,  0.,  0.],\n",
       "        [ 7.,  7.,  6., ...,  2.,  0.,  0.],\n",
       "        [ 8.,  7.,  6., ...,  2.,  0.,  0.],\n",
       "        ...,\n",
       "        [ 7.,  9.,  9., ..., 10.,  7., 26.],\n",
       "        [ 7.,  8.,  8., ...,  9., 26., 26.],\n",
       "        [ 7.,  8.,  8., ...,  8., 26., 26.]]),\n",
       " array([[ 1.,  1.,  0., ..., 26.,  7.,  7.],\n",
       "        [ 0.,  0.,  0., ...,  0.,  2.,  7.],\n",
       "        [ 0.,  0.,  5., ...,  2., 26.,  8.],\n",
       "        ...,\n",
       "        [26., 26.,  4., ...,  9.,  9., 26.],\n",
       "        [ 0.,  0.,  0., ..., 26.,  7., 26.],\n",
       "        [ 0.,  0.,  0., ...,  7.,  6.,  3.]]),\n",
       " array([[ 5.,  6.,  8., ...,  7.,  7.,  5.],\n",
       "        [ 8.,  6.,  7., ...,  8.,  7.,  6.],\n",
       "        [ 8.,  8.,  7., ..., 11., 10.,  7.],\n",
       "        ...,\n",
       "        [ 0.,  1.,  1., ..., 25., 10.,  9.],\n",
       "        [ 0.,  3.,  3., ..., 11.,  9.,  8.],\n",
       "        [ 4.,  8.,  9., ...,  9.,  8.,  7.]]),\n",
       " array([[26.,  0.,  9., ...,  0.,  1.,  4.],\n",
       "        [26.,  8.,  0., ...,  0.,  4.,  5.],\n",
       "        [ 0., 26., 26., ...,  0.,  9., 26.],\n",
       "        ...,\n",
       "        [26., 26., 10., ...,  0.,  0.,  0.],\n",
       "        [ 0.,  0., 26., ...,  0.,  1.,  1.],\n",
       "        [ 0.,  0.,  0., ...,  2.,  1.,  1.]]),\n",
       " array([[ 0.,  1., 26., ...,  1., 26., 26.],\n",
       "        [ 3.,  1.,  0., ..., 26.,  0.,  0.],\n",
       "        [ 4.,  1.,  0., ..., 10.,  0.,  0.],\n",
       "        ...,\n",
       "        [ 0.,  0.,  4., ..., 26., 26., 26.],\n",
       "        [ 0.,  0.,  3., ...,  1.,  0.,  0.],\n",
       "        [ 0.,  0., 26., ...,  0.,  0.,  0.]]),\n",
       " array([[ 1.,  0.,  0., ...,  8., 26., 26.],\n",
       "        [ 1.,  0.,  0., ..., 26.,  9., 26.],\n",
       "        [ 1.,  0.,  0., ...,  0., 26.,  9.],\n",
       "        ...,\n",
       "        [ 8., 26.,  3., ..., 26.,  9.,  8.],\n",
       "        [ 3.,  6.,  3., ...,  9.,  8.,  8.],\n",
       "        [ 5.,  3.,  4., ..., 26., 26.,  6.]]),\n",
       " array([[ 1.,  1., 26., ..., 26.,  7.,  6.],\n",
       "        [ 1.,  1., 26., ...,  0., 26., 26.],\n",
       "        [26.,  9., 26., ...,  0.,  2., 26.],\n",
       "        ...,\n",
       "        [ 8., 26.,  9., ..., 26., 10., 26.],\n",
       "        [26., 26.,  6., ..., 26., 26., 26.],\n",
       "        [26., 26.,  4., ...,  4.,  4., 26.]]),\n",
       " array([[ 7.,  8.,  9., ...,  2.,  2.,  3.],\n",
       "        [ 7.,  7.,  6., ...,  1.,  2.,  2.],\n",
       "        [ 8.,  9., 26., ..., 26., 26., 26.],\n",
       "        ...,\n",
       "        [ 4.,  5.,  2., ...,  4.,  6.,  8.],\n",
       "        [26., 26.,  1., ...,  4., 26.,  5.],\n",
       "        [26.,  7.,  0., ...,  1.,  4.,  4.]]),\n",
       " array([[26., 26., 26., ..., 26.,  4.,  2.],\n",
       "        [ 1.,  1.,  0., ...,  1.,  1.,  0.],\n",
       "        [ 0., 26.,  1., ..., 26., 26., 26.],\n",
       "        ...,\n",
       "        [26.,  1.,  0., ...,  6.,  0.,  1.],\n",
       "        [ 0., 26.,  0., ...,  7.,  1.,  1.],\n",
       "        [ 0.,  8.,  0., ...,  8.,  6.,  5.]])]"
      ]
     },
     "execution_count": 9,
     "metadata": {},
     "output_type": "execute_result"
    }
   ],
   "source": [
    "lbp_train_features"
   ]
  },
  {
   "cell_type": "code",
   "execution_count": 10,
   "metadata": {},
   "outputs": [
    {
     "data": {
      "text/plain": [
       "['plain1train.jpeg',\n",
       " 'pattern6train.jpeg',\n",
       " 'plain3train.jpeg',\n",
       " 'pattern5train.jpeg',\n",
       " 'pattern3train.jpeg',\n",
       " 'pattern7train.jpeg',\n",
       " 'plain4train.jpeg',\n",
       " 'pattern4train.jpeg',\n",
       " 'pattern2train.jpeg',\n",
       " 'plain2train.jpeg',\n",
       " 'pattern1train.jpeg']"
      ]
     },
     "execution_count": 10,
     "metadata": {},
     "output_type": "execute_result"
    }
   ],
   "source": [
    "train_data"
   ]
  },
  {
   "cell_type": "code",
   "execution_count": null,
   "metadata": {},
   "outputs": [],
   "source": []
  },
  {
   "cell_type": "code",
   "execution_count": null,
   "metadata": {},
   "outputs": [],
   "source": []
  },
  {
   "cell_type": "code",
   "execution_count": null,
   "metadata": {},
   "outputs": [],
   "source": []
  },
  {
   "cell_type": "code",
   "execution_count": null,
   "metadata": {},
   "outputs": [],
   "source": []
  },
  {
   "cell_type": "code",
   "execution_count": null,
   "metadata": {},
   "outputs": [],
   "source": []
  },
  {
   "cell_type": "code",
   "execution_count": null,
   "metadata": {},
   "outputs": [],
   "source": []
  }
 ],
 "metadata": {
  "kernelspec": {
   "display_name": "Python 3",
   "language": "python",
   "name": "python3"
  },
  "language_info": {
   "codemirror_mode": {
    "name": "ipython",
    "version": 3
   },
   "file_extension": ".py",
   "mimetype": "text/x-python",
   "name": "python",
   "nbconvert_exporter": "python",
   "pygments_lexer": "ipython3",
   "version": "3.7.9"
  }
 },
 "nbformat": 4,
 "nbformat_minor": 4
}
