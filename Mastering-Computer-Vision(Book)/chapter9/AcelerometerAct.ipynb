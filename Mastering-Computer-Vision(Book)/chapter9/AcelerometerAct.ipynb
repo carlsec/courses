{
 "cells": [
  {
   "cell_type": "code",
   "execution_count": 1,
   "id": "arabic-corpus",
   "metadata": {},
   "outputs": [],
   "source": [
    "from __future__ import absolute_import, division, print_function, unicode_literals\n",
    "import numpy as np\n",
    "import pandas as pd\n",
    "\n",
    "import tensorflow as tf\n",
    "from tensorflow import feature_column\n",
    "from tensorflow.keras import layers\n",
    "from sklearn.model_selection import train_test_split\n",
    "from sklearn import preprocessing"
   ]
  },
  {
   "cell_type": "code",
   "execution_count": 2,
   "id": "supreme-shirt",
   "metadata": {},
   "outputs": [],
   "source": [
    "def read_data(file_path):\n",
    "    column_names = ['user-id','activity','timestamp','x-axis','y-axis','z-axis']\n",
    "    df = pd.read_csv(file_path,\n",
    "                     header=None,\n",
    "                     names=column_names)\n",
    "    df['z-axis'].replace(regex=True,\n",
    "      inplace=True,\n",
    "      to_replace=r';',\n",
    "      value=r'')\n",
    "    df['z-axis'] = df['z-axis'].apply(convert_to_float)\n",
    "\n",
    "    df.dropna(axis=0, how='any', inplace=True)\n",
    "\n",
    "    return df"
   ]
  },
  {
   "cell_type": "code",
   "execution_count": 3,
   "id": "level-romance",
   "metadata": {},
   "outputs": [],
   "source": [
    "def convert_to_float(x):\n",
    "\n",
    "    try:\n",
    "        return np.float(x)\n",
    "    except:\n",
    "        return np.nan\n",
    "\n",
    "def show_basic_dataframe_info(dataframe):\n",
    "\n",
    "    # Shape and how many rows and columns\n",
    "    print('Number of columns in the dataframe: %i' % (dataframe.shape[1]))\n",
    "    print('Number of rows in the dataframe: %i\\n' % (dataframe.shape[0]))"
   ]
  },
  {
   "cell_type": "code",
   "execution_count": 4,
   "id": "southwest-genetics",
   "metadata": {},
   "outputs": [
    {
     "data": {
      "text/html": [
       "<div>\n",
       "<style scoped>\n",
       "    .dataframe tbody tr th:only-of-type {\n",
       "        vertical-align: middle;\n",
       "    }\n",
       "\n",
       "    .dataframe tbody tr th {\n",
       "        vertical-align: top;\n",
       "    }\n",
       "\n",
       "    .dataframe thead th {\n",
       "        text-align: right;\n",
       "    }\n",
       "</style>\n",
       "<table border=\"1\" class=\"dataframe\">\n",
       "  <thead>\n",
       "    <tr style=\"text-align: right;\">\n",
       "      <th></th>\n",
       "      <th>user-id</th>\n",
       "      <th>activity</th>\n",
       "      <th>timestamp</th>\n",
       "      <th>x-axis</th>\n",
       "      <th>y-axis</th>\n",
       "      <th>z-axis</th>\n",
       "    </tr>\n",
       "  </thead>\n",
       "  <tbody>\n",
       "    <tr>\n",
       "      <th>0</th>\n",
       "      <td>7</td>\n",
       "      <td>0</td>\n",
       "      <td>207423362123000</td>\n",
       "      <td>4.48</td>\n",
       "      <td>4.48</td>\n",
       "      <td>-19.80</td>\n",
       "    </tr>\n",
       "    <tr>\n",
       "      <th>1</th>\n",
       "      <td>7</td>\n",
       "      <td>0</td>\n",
       "      <td>207421722352000</td>\n",
       "      <td>-1.14</td>\n",
       "      <td>0.38</td>\n",
       "      <td>-19.76</td>\n",
       "    </tr>\n",
       "    <tr>\n",
       "      <th>2</th>\n",
       "      <td>7</td>\n",
       "      <td>0</td>\n",
       "      <td>207426651856000</td>\n",
       "      <td>3.21</td>\n",
       "      <td>0.34</td>\n",
       "      <td>-19.76</td>\n",
       "    </tr>\n",
       "    <tr>\n",
       "      <th>3</th>\n",
       "      <td>8</td>\n",
       "      <td>0</td>\n",
       "      <td>111711611580000</td>\n",
       "      <td>5.86</td>\n",
       "      <td>18.96</td>\n",
       "      <td>-19.72</td>\n",
       "    </tr>\n",
       "    <tr>\n",
       "      <th>4</th>\n",
       "      <td>7</td>\n",
       "      <td>0</td>\n",
       "      <td>207441621705000</td>\n",
       "      <td>9.08</td>\n",
       "      <td>7.97</td>\n",
       "      <td>-19.72</td>\n",
       "    </tr>\n",
       "  </tbody>\n",
       "</table>\n",
       "</div>"
      ],
      "text/plain": [
       "   user-id  activity        timestamp  x-axis  y-axis  z-axis\n",
       "0        7         0  207423362123000    4.48    4.48  -19.80\n",
       "1        7         0  207421722352000   -1.14    0.38  -19.76\n",
       "2        7         0  207426651856000    3.21    0.34  -19.76\n",
       "3        8         0  111711611580000    5.86   18.96  -19.72\n",
       "4        7         0  207441621705000    9.08    7.97  -19.72"
      ]
     },
     "execution_count": 4,
     "metadata": {},
     "output_type": "execute_result"
    }
   ],
   "source": [
    "dataframe = read_data('sample.csv') \n",
    "dataframe.head()"
   ]
  },
  {
   "cell_type": "code",
   "execution_count": 5,
   "id": "sustainable-amplifier",
   "metadata": {},
   "outputs": [
    {
     "data": {
      "text/plain": [
       "user-id        int64\n",
       "activity       int64\n",
       "timestamp      int64\n",
       "x-axis       float64\n",
       "y-axis       float64\n",
       "z-axis       float64\n",
       "dtype: object"
      ]
     },
     "execution_count": 5,
     "metadata": {},
     "output_type": "execute_result"
    }
   ],
   "source": [
    "dataframe.dtypes"
   ]
  },
  {
   "cell_type": "code",
   "execution_count": 6,
   "id": "activated-cosmetic",
   "metadata": {},
   "outputs": [],
   "source": [
    "df_test = dataframe[dataframe['user-id'] > 18]\n",
    "df_train = dataframe[dataframe['user-id'] <= 18]\n",
    "\n",
    "target_test = df_test.pop('activity')\n",
    "target_train = df_train.pop('activity')\n",
    "\n",
    "XData_test = np.array(df_test.values)\n",
    "YData_test= np.array(target_test.values)\n",
    "\n",
    "XData_train = np.array(df_train.values)\n",
    "YData_train= np.array(target_train.values)"
   ]
  },
  {
   "cell_type": "code",
   "execution_count": 9,
   "id": "renewable-ethernet",
   "metadata": {},
   "outputs": [],
   "source": [
    "scaling_train = preprocessing.MinMaxScaler(feature_range=(0,1)).fit(XData_train)\n",
    "XData_train = scaling_train.transform(XData_train)\n",
    "\n",
    "scaling_test = preprocessing.MinMaxScaler(feature_range=(0,1)).fit(XData_test)\n",
    "XData_test = scaling_test.transform(XData_test)\n",
    "\n",
    "# scaler = preprocessing.StandardScaler().fit(XData)\n",
    "# XData = scaler.transform(XData)\n",
    "\n",
    "dataset_train = tf.data.Dataset.from_tensor_slices((XData_train, YData_train))\n",
    "dataset_test = tf.data.Dataset.from_tensor_slices((XData_test, YData_test))"
   ]
  },
  {
   "cell_type": "code",
   "execution_count": 10,
   "id": "funky-shield",
   "metadata": {},
   "outputs": [],
   "source": [
    "train_dataset = dataset_train.shuffle(len(df_train)).batch(1)\n",
    "test_dataset = dataset_test.shuffle(len(df_test)).batch(1)"
   ]
  },
  {
   "cell_type": "code",
   "execution_count": 11,
   "id": "designing-muslim",
   "metadata": {},
   "outputs": [],
   "source": [
    "def get_compiled_model():\n",
    "    model = tf.keras.Sequential([\n",
    "    tf.keras.layers.Dense(128, activation='relu'),\n",
    "    tf.keras.layers.Dense(128, activation='relu'),\n",
    "    tf.keras.layers.Dense(128, activation='relu'),\n",
    "    #tf.keras.layers.Dense(6, activation='sigmoid')\n",
    "\n",
    "    tf.keras.layers.Flatten(),\n",
    "    tf.keras.layers.Dense(6, activation='softmax')])\n",
    "\n",
    "    model.compile(optimizer='adam',\n",
    "                loss='sparse_categorical_crossentropy',\n",
    "                metrics=['accuracy'])\n",
    "    \n",
    "    return model"
   ]
  },
  {
   "cell_type": "code",
   "execution_count": 12,
   "id": "antique-browser",
   "metadata": {},
   "outputs": [
    {
     "name": "stdout",
     "output_type": "stream",
     "text": [
      "Epoch 1/5\n",
      "12018/12018 [==============================] - 15s 1ms/step - loss: 0.4005 - accuracy: 0.8426 - val_loss: 0.5768 - val_accuracy: 0.8434\n",
      "Epoch 2/5\n",
      "12018/12018 [==============================] - 14s 1ms/step - loss: 0.1263 - accuracy: 0.9571 - val_loss: 0.5902 - val_accuracy: 0.8742\n",
      "Epoch 3/5\n",
      "12018/12018 [==============================] - 14s 1ms/step - loss: 0.0915 - accuracy: 0.9694 - val_loss: 0.9959 - val_accuracy: 0.8392\n",
      "Epoch 4/5\n",
      "12018/12018 [==============================] - 14s 1ms/step - loss: 0.0943 - accuracy: 0.9714 - val_loss: 0.7049 - val_accuracy: 0.8670\n",
      "Epoch 5/5\n",
      "12018/12018 [==============================] - 14s 1ms/step - loss: 0.0742 - accuracy: 0.9760 - val_loss: 1.2714 - val_accuracy: 0.8186\n"
     ]
    }
   ],
   "source": [
    "model = get_compiled_model()\n",
    "\n",
    "history = model.fit(train_dataset,validation_data =test_dataset, epochs=5)"
   ]
  },
  {
   "cell_type": "code",
   "execution_count": 13,
   "id": "flying-clinic",
   "metadata": {},
   "outputs": [
    {
     "name": "stdout",
     "output_type": "stream",
     "text": [
      "Model: \"sequential\"\n",
      "_________________________________________________________________\n",
      "Layer (type)                 Output Shape              Param #   \n",
      "=================================================================\n",
      "dense (Dense)                (None, 128)               768       \n",
      "_________________________________________________________________\n",
      "dense_1 (Dense)              (None, 128)               16512     \n",
      "_________________________________________________________________\n",
      "dense_2 (Dense)              (None, 128)               16512     \n",
      "_________________________________________________________________\n",
      "flatten (Flatten)            (None, 128)               0         \n",
      "_________________________________________________________________\n",
      "dense_3 (Dense)              (None, 6)                 774       \n",
      "=================================================================\n",
      "Total params: 34,566\n",
      "Trainable params: 34,566\n",
      "Non-trainable params: 0\n",
      "_________________________________________________________________\n"
     ]
    }
   ],
   "source": [
    "model.summary()"
   ]
  },
  {
   "cell_type": "code",
   "execution_count": 14,
   "id": "polyphonic-reproduction",
   "metadata": {},
   "outputs": [
    {
     "data": {
      "image/png": "[encoded data removed]",
      "text/plain": [
       "<Figure size 432x288 with 1 Axes>"
      ]
     },
     "metadata": {
      "needs_background": "light"
     },
     "output_type": "display_data"
    },
    {
     "data": {
      "image/png": "[encoded data removed]",
      "text/plain": [
       "<Figure size 432x288 with 1 Axes>"
      ]
     },
     "metadata": {
      "needs_background": "light"
     },
     "output_type": "display_data"
    }
   ],
   "source": [
    "import matplotlib.pyplot as plt\n",
    "plt.plot(history.history['accuracy'])\n",
    "plt.plot(history.history['val_accuracy'])\n",
    "plt.title('Model accuracy')\n",
    "plt.ylabel('Accuracy')\n",
    "plt.xlabel('Epoch')\n",
    "plt.legend(['Train', 'Test'], loc='upper left')\n",
    "plt.show()\n",
    "\n",
    "# Plot training & validation loss values\n",
    "plt.plot(history.history['loss'])\n",
    "plt.plot(history.history['val_loss'])\n",
    "plt.title('Model loss')\n",
    "plt.ylabel('Loss')\n",
    "plt.xlabel('Epoch')\n",
    "plt.legend(['Train', 'Test'], loc='upper left')\n",
    "plt.show()"
   ]
  },
  {
   "cell_type": "code",
   "execution_count": 18,
   "id": "desirable-piece",
   "metadata": {},
   "outputs": [
    {
     "data": {
      "image/png": "[encoded data removed]",
      "text/plain": [
       "<Figure size 432x288 with 2 Axes>"
      ]
     },
     "metadata": {
      "needs_background": "light"
     },
     "output_type": "display_data"
    }
   ],
   "source": [
    "from sklearn import metrics\n",
    "import seaborn as sns\n",
    "\n",
    "LABELS = ['Jogging',\n",
    "          'Walking',\n",
    "          'Upstairs',\n",
    "          'Downstairs',\n",
    "          'Sitting',\n",
    "          'Standing']\n",
    "\n",
    "def display_confusion_matrix(test, predict):\n",
    "\n",
    "    con = metrics.confusion_matrix(test, predict)\n",
    "    plt.figure(figsize=(6, 4))\n",
    "    sns.heatmap(con,\n",
    "                cmap='winter',\n",
    "                linecolor='yellow',\n",
    "                linewidths=2,\n",
    "                xticklabels=LABELS,\n",
    "                yticklabels=LABELS,\n",
    "                annot=True,\n",
    "                fmt='d')\n",
    "    plt.title('Confusion Matrix')\n",
    "    plt.ylabel('Actual value')\n",
    "    plt.xlabel('Predicted value')\n",
    "    plt.show()\n",
    "\n",
    "y_pred_test=np.argmax(model.predict(XData_test), axis=-1)\n",
    "# Take the class with the highest probability from the test predictions\n",
    "\n",
    "max_y_pred_test = tf.argmax(y_pred_test, axis=None, output_type=tf.int64)\n",
    "max_y_test = tf.argmax(YData_test,axis=None, output_type=tf.int64)\n",
    "\n",
    "\n",
    "display_confusion_matrix(y_pred_test, YData_test)"
   ]
  },
  {
   "cell_type": "code",
   "execution_count": null,
   "id": "isolated-hearing",
   "metadata": {},
   "outputs": [],
   "source": []
  },
  {
   "cell_type": "code",
   "execution_count": null,
   "id": "valid-chorus",
   "metadata": {},
   "outputs": [],
   "source": []
  }
 ],
 "metadata": {
  "kernelspec": {
   "display_name": "Python 3",
   "language": "python",
   "name": "python3"
  },
  "language_info": {
   "codemirror_mode": {
    "name": "ipython",
    "version": 3
   },
   "file_extension": ".py",
   "mimetype": "text/x-python",
   "name": "python",
   "nbconvert_exporter": "python",
   "pygments_lexer": "ipython3",
   "version": "3.8.5"
  }
 },
 "nbformat": 4,
 "nbformat_minor": 5
}
