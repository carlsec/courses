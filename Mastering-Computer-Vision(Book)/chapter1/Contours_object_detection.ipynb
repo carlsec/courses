{
 "cells": [
  {
   "cell_type": "code",
   "execution_count": 60,
   "metadata": {},
   "outputs": [
    {
     "name": "stdout",
     "output_type": "stream",
     "text": [
      "Using matplotlib backend: Qt5Agg\n"
     ]
    }
   ],
   "source": [
    "from __future__ import print_function\n",
    "import cv2\n",
    "import numpy as np\n",
    "import matplotlib.pyplot as plt\n",
    "import random as rng\n",
    "%matplotlib"
   ]
  },
  {
   "cell_type": "code",
   "execution_count": 67,
   "metadata": {},
   "outputs": [
    {
     "data": {
      "text/plain": [
       "(640, 480, 3)"
      ]
     },
     "execution_count": 67,
     "metadata": {},
     "output_type": "execute_result"
    }
   ],
   "source": [
    "img = cv2.imread('appleorangeother.JPG')\n",
    "img.shape"
   ]
  },
  {
   "cell_type": "code",
   "execution_count": 68,
   "metadata": {},
   "outputs": [],
   "source": [
    "threshold = 100\n",
    "canny_output = cv2.Canny(img, threshold, threshold * 2)\n",
    "_, contours, hierarchy = cv2.findContours(canny_output, cv2.RETR_EXTERNAL, cv2.CHAIN_APPROX_SIMPLE)"
   ]
  },
  {
   "cell_type": "code",
   "execution_count": 69,
   "metadata": {},
   "outputs": [
    {
     "name": "stdout",
     "output_type": "stream",
     "text": [
      "1 (29.87429111531191, 92.01890359168242, 182.84026465028356, 0.0)\n",
      "2 (34.00568181818182, 49.73605371900827, 115.44163223140497, 0.0)\n",
      "3 (39.162326388888886, 62.77256944444444, 148.98133680555554, 0.0)\n",
      "4 (32.284938271604936, 53.324444444444445, 141.16493827160494, 0.0)\n",
      "5 (12.990362811791384, 67.3078231292517, 142.0997732426304, 0.0)\n",
      "6 (38.15, 56.9972, 119.3528, 0.0)\n",
      "7 (47.102716049382714, 80.29333333333334, 166.3264197530864, 0.0)\n",
      "8 (45.76502082093992, 68.75133848899465, 160.64901844140394, 0.0)\n",
      "9 (23.54432132963989, 98.59972299168975, 191.97368421052633, 0.0)\n"
     ]
    }
   ],
   "source": [
    "count=0\n",
    "font = cv2.FONT_HERSHEY_SIMPLEX\n",
    "for c in contours:\n",
    "    x,y,w,h = cv2.boundingRect(c)\n",
    "    if (w >60 and w < 100 and h >60 and h <120):\n",
    "        count = count+1\n",
    "        ROI = img[y+int(h/4):y+int(3*h/4), x+int(h/4):x+int(3*h/4)]\n",
    "        ROI_meancolor = cv2.mean(ROI)\n",
    "        print(count,ROI_meancolor)\n",
    "        if (ROI_meancolor[0] > 10 and ROI_meancolor[0] < 40 and ROI_meancolor[1] > 65 and ROI_meancolor[1] < 105 \n",
    "            and ROI_meancolor[2] > 150 and ROI_meancolor[2] < 200):\n",
    "                cv2.putText(img, 'orange', (x-2, y-2), font, 0.8, (255,255,255), 2, cv2.LINE_AA)\n",
    "                cv2.rectangle(img,(x,y),(x+w,y+h),(255,255,255),3)\n",
    "                cv2.imshow('Contours', img)\n",
    "        else:\n",
    "                cv2.putText(img, 'apple', (x-2, y-2), font, 0.8, (0,0,255), 2, cv2.LINE_AA)\n",
    "                cv2.rectangle(img,(x,y),(x+w,y+h),(0,0,255),3)\n",
    "                cv2.imshow('Contours', img)"
   ]
  },
  {
   "cell_type": "code",
   "execution_count": 35,
   "metadata": {},
   "outputs": [],
   "source": [
    "from skimage.feature import hog\n",
    "from skimage import data, exposure\n",
    "fruit, hog_image = hog(img, orientations=8, pixels_per_cell=(16, 16),\n",
    "                    cells_per_block=(1, 1), visualize=True, multichannel=True)\n",
    "hog_image_rescaled = exposure.rescale_intensity(hog_image, in_range=(0, 10))\n",
    "cv2.imshow('HOG_image', hog_image_rescaled)"
   ]
  },
  {
   "cell_type": "code",
   "execution_count": null,
   "metadata": {},
   "outputs": [],
   "source": []
  }
 ],
 "metadata": {
  "kernelspec": {
   "display_name": "Python 3",
   "language": "python",
   "name": "python3"
  },
  "language_info": {
   "codemirror_mode": {
    "name": "ipython",
    "version": 3
   },
   "file_extension": ".py",
   "mimetype": "text/x-python",
   "name": "python",
   "nbconvert_exporter": "python",
   "pygments_lexer": "ipython3",
   "version": "3.8.6"
  }
 },
 "nbformat": 4,
 "nbformat_minor": 4
}
