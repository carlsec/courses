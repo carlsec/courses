{
 "cells": [
  {
   "cell_type": "code",
   "execution_count": 1,
   "id": "freelance-blond",
   "metadata": {},
   "outputs": [
    {
     "name": "stdout",
     "output_type": "stream",
     "text": [
      "Downloading http://fashion-mnist.s3-website.eu-central-1.amazonaws.com/train-images-idx3-ubyte.gz to /home/carlsec/data/FMNIST/FashionMNIST/raw/train-images-idx3-ubyte.gz\n"
     ]
    },
    {
     "data": {
      "application/vnd.jupyter.widget-view+json": {
       "model_id": "f36307b22c9f4193858eb1d47adaf3c3",
       "version_major": 2,
       "version_minor": 0
      },
      "text/plain": [
       "0it [00:00, ?it/s]"
      ]
     },
     "metadata": {},
     "output_type": "display_data"
    },
    {
     "name": "stdout",
     "output_type": "stream",
     "text": [
      "Extracting /home/carlsec/data/FMNIST/FashionMNIST/raw/train-images-idx3-ubyte.gz to /home/carlsec/data/FMNIST/FashionMNIST/raw\n",
      "Downloading http://fashion-mnist.s3-website.eu-central-1.amazonaws.com/train-labels-idx1-ubyte.gz to /home/carlsec/data/FMNIST/FashionMNIST/raw/train-labels-idx1-ubyte.gz\n"
     ]
    },
    {
     "data": {
      "application/vnd.jupyter.widget-view+json": {
       "model_id": "326221e649f549e2bffbc9e1af2db6d5",
       "version_major": 2,
       "version_minor": 0
      },
      "text/plain": [
       "0it [00:00, ?it/s]"
      ]
     },
     "metadata": {},
     "output_type": "display_data"
    },
    {
     "name": "stdout",
     "output_type": "stream",
     "text": [
      "Extracting /home/carlsec/data/FMNIST/FashionMNIST/raw/train-labels-idx1-ubyte.gz to /home/carlsec/data/FMNIST/FashionMNIST/raw\n",
      "Downloading http://fashion-mnist.s3-website.eu-central-1.amazonaws.com/t10k-images-idx3-ubyte.gz to /home/carlsec/data/FMNIST/FashionMNIST/raw/t10k-images-idx3-ubyte.gz\n"
     ]
    },
    {
     "data": {
      "application/vnd.jupyter.widget-view+json": {
       "model_id": "741ad3b4b6414038ae526efcbd813071",
       "version_major": 2,
       "version_minor": 0
      },
      "text/plain": [
       "0it [00:00, ?it/s]"
      ]
     },
     "metadata": {},
     "output_type": "display_data"
    },
    {
     "name": "stdout",
     "output_type": "stream",
     "text": [
      "Extracting /home/carlsec/data/FMNIST/FashionMNIST/raw/t10k-images-idx3-ubyte.gz to /home/carlsec/data/FMNIST/FashionMNIST/raw\n",
      "Downloading http://fashion-mnist.s3-website.eu-central-1.amazonaws.com/t10k-labels-idx1-ubyte.gz to /home/carlsec/data/FMNIST/FashionMNIST/raw/t10k-labels-idx1-ubyte.gz\n"
     ]
    },
    {
     "data": {
      "application/vnd.jupyter.widget-view+json": {
       "model_id": "944b42a6211241c58783e2e688908f67",
       "version_major": 2,
       "version_minor": 0
      },
      "text/plain": [
       "0it [00:00, ?it/s]"
      ]
     },
     "metadata": {},
     "output_type": "display_data"
    },
    {
     "name": "stdout",
     "output_type": "stream",
     "text": [
      "Extracting /home/carlsec/data/FMNIST/FashionMNIST/raw/t10k-labels-idx1-ubyte.gz to /home/carlsec/data/FMNIST/FashionMNIST/raw\n",
      "Processing...\n"
     ]
    },
    {
     "name": "stderr",
     "output_type": "stream",
     "text": [
      "/home/carlsec/anaconda3/envs/carl38/lib/python3.8/site-packages/torchvision/datasets/mnist.py:480: UserWarning: The given NumPy array is not writeable, and PyTorch does not support non-writeable tensors. This means you can write to the underlying (supposedly non-writeable) NumPy array using the tensor. You may want to copy the array to protect its data or make it writeable before converting it to a tensor. This type of warning will be suppressed for the rest of this program. (Triggered internally at  /pytorch/torch/csrc/utils/tensor_numpy.cpp:141.)\n",
      "  return torch.from_numpy(parsed.astype(m[2], copy=False)).view(*s)\n"
     ]
    },
    {
     "name": "stdout",
     "output_type": "stream",
     "text": [
      "Done!\n"
     ]
    }
   ],
   "source": [
    "from torch.utils.data import Dataset, DataLoader\n",
    "import torch\n",
    "import torch.nn as nn\n",
    "import numpy as np\n",
    "import matplotlib.pyplot as plt\n",
    "%matplotlib inline\n",
    "device = \"cuda\" if torch.cuda.is_available() else \"cpu\"\n",
    "from torchvision import datasets\n",
    "data_folder = '~/data/FMNIST' # This can be any directory you \n",
    "# want to download FMNIST to\n",
    "fmnist = datasets.FashionMNIST(data_folder, download=True, \\\n",
    "                                                  train=True)\n",
    "tr_images = fmnist.data\n",
    "tr_targets = fmnist.targets"
   ]
  },
  {
   "cell_type": "code",
   "execution_count": 2,
   "id": "wired-mauritius",
   "metadata": {},
   "outputs": [],
   "source": [
    "class FMNISTDataset(Dataset):\n",
    "    def __init__(self, x, y):\n",
    "        x = x.float()\n",
    "        x = x.view(-1,28*28)\n",
    "        self.x, self.y = x, y \n",
    "    def __getitem__(self, ix):\n",
    "        x, y = self.x[ix], self.y[ix] \n",
    "        return x.to(device), y.to(device)\n",
    "    def __len__(self): \n",
    "        return len(self.x)"
   ]
  },
  {
   "cell_type": "code",
   "execution_count": 3,
   "id": "instructional-federal",
   "metadata": {},
   "outputs": [],
   "source": [
    "def get_data(): \n",
    "    train = FMNISTDataset(tr_images, tr_targets) \n",
    "    trn_dl = DataLoader(train, batch_size=32, shuffle=True)\n",
    "    return trn_dl"
   ]
  },
  {
   "cell_type": "code",
   "execution_count": 4,
   "id": "sensitive-summer",
   "metadata": {},
   "outputs": [],
   "source": [
    "from torch.optim import SGD\n",
    "def get_model():\n",
    "    model = nn.Sequential(\n",
    "                nn.Linear(28 * 28, 1000),\n",
    "                nn.ReLU(),\n",
    "                nn.Linear(1000, 10)\n",
    "            ).to(device)\n",
    "    loss_fn = nn.CrossEntropyLoss()\n",
    "    optimizer = SGD(model.parameters(), lr=1e-2)\n",
    "    return model, loss_fn, optimizer"
   ]
  },
  {
   "cell_type": "code",
   "execution_count": 11,
   "id": "capable-matter",
   "metadata": {},
   "outputs": [],
   "source": [
    "def train_batch(x, y, model, opt, loss_fn):\n",
    "    model.train() # <- let's hold on to this until we reach \n",
    "    # dropout section\n",
    "    # call your model like any python function on your batch \n",
    "    # of inputs\n",
    "    prediction = model(x)\n",
    "    # compute loss\n",
    "    batch_loss = loss_fn(prediction, y)\n",
    "    # based on the forward pass in `model(x)` compute all the \n",
    "    # gradients of 'model.parameters()'\n",
    "    batch_loss.backward()\n",
    "    # apply new-weights = f(old-weights, old-weight-gradients) \n",
    "    # where \"f\" is the optimizer\n",
    "    optimizer.step()\n",
    "    # Flush gradients memory for next batch of calculations\n",
    "    optimizer.zero_grad()\n",
    "    return batch_loss.item()"
   ]
  },
  {
   "cell_type": "code",
   "execution_count": 12,
   "id": "fuzzy-oxygen",
   "metadata": {},
   "outputs": [],
   "source": [
    "# since there's no need for updating weights, \n",
    "# we might as well not compute the gradients.\n",
    "# Using this '@' decorator on top of functions \n",
    "# will disable gradient computation in the entire function\n",
    "@torch.no_grad()\n",
    "def accuracy(x, y, model):\n",
    "    model.eval() # <- let's wait till we get to dropout \n",
    "    # section\n",
    "    # get the prediction matrix for a tensor of `x` images\n",
    "    prediction = model(x)\n",
    "    # compute if the location of maximum in each row \n",
    "    # coincides with ground truth\n",
    "    max_values, argmaxes = prediction.max(-1)\n",
    "    is_correct = argmaxes == y\n",
    "    return is_correct.cpu().numpy().tolist()"
   ]
  },
  {
   "cell_type": "code",
   "execution_count": 13,
   "id": "assisted-catch",
   "metadata": {},
   "outputs": [],
   "source": [
    "trn_dl = get_data()\n",
    "model, loss_fn, optimizer = get_model()"
   ]
  },
  {
   "cell_type": "code",
   "execution_count": 14,
   "id": "armed-surveillance",
   "metadata": {},
   "outputs": [],
   "source": [
    "losses, accuracies = [], []"
   ]
  },
  {
   "cell_type": "code",
   "execution_count": 15,
   "id": "sapphire-corrections",
   "metadata": {},
   "outputs": [
    {
     "name": "stdout",
     "output_type": "stream",
     "text": [
      "0\n",
      "1\n",
      "2\n",
      "3\n",
      "4\n"
     ]
    }
   ],
   "source": [
    "for epoch in range(5):\n",
    "    print(epoch)\n",
    "    epoch_losses, epoch_accuracies = [], []\n",
    "    for ix, batch in enumerate(iter(trn_dl)):\n",
    "        x, y = batch\n",
    "        batch_loss = train_batch(x, y, model, optimizer, loss_fn)\n",
    "        epoch_losses.append(batch_loss)\n",
    "    epoch_loss = np.array(epoch_losses).mean()\n",
    "    for ix, batch in enumerate(iter(trn_dl)):\n",
    "        x, y = batch\n",
    "        is_correct = accuracy(x, y, model)\n",
    "        epoch_accuracies.extend(is_correct)\n",
    "    epoch_accuracy = np.mean(epoch_accuracies)\n",
    "    losses.append(epoch_loss)\n",
    "    accuracies.append(epoch_accuracy)"
   ]
  },
  {
   "cell_type": "code",
   "execution_count": 16,
   "id": "global-flavor",
   "metadata": {},
   "outputs": [
    {
     "name": "stderr",
     "output_type": "stream",
     "text": [
      "<ipython-input-16-07f3345cba83>:10: UserWarning: FixedFormatter should only be used together with FixedLocator\n",
      "  plt.gca().set_yticklabels(['{:.0f}%'.format(x*100) for x in plt.gca().get_yticks()])\n"
     ]
    },
    {
     "data": {
      "text/plain": [
       "<matplotlib.legend.Legend at 0x7f99d8056490>"
      ]
     },
     "execution_count": 16,
     "metadata": {},
     "output_type": "execute_result"
    },
    {
     "data": {
      "image/png": "[encoded data removed]",
      "text/plain": [
       "<Figure size 1440x360 with 2 Axes>"
      ]
     },
     "metadata": {
      "needs_background": "light"
     },
     "output_type": "display_data"
    }
   ],
   "source": [
    "epochs = np.arange(5)+1\n",
    "plt.figure(figsize=(20,5))\n",
    "plt.subplot(121)\n",
    "plt.title('Loss value over increasing epochs')\n",
    "plt.plot(epochs, losses, label='Training Loss')\n",
    "plt.legend()\n",
    "plt.subplot(122)\n",
    "plt.title('Accuracy value over increasing epochs')\n",
    "plt.plot(epochs, accuracies, label='Training Accuracy')\n",
    "plt.gca().set_yticklabels(['{:.0f}%'.format(x*100) for x in plt.gca().get_yticks()]) \n",
    "plt.legend()"
   ]
  },
  {
   "cell_type": "code",
   "execution_count": null,
   "id": "musical-nicholas",
   "metadata": {},
   "outputs": [],
   "source": []
  }
 ],
 "metadata": {
  "kernelspec": {
   "display_name": "Python 3",
   "language": "python",
   "name": "python3"
  },
  "language_info": {
   "codemirror_mode": {
    "name": "ipython",
    "version": 3
   },
   "file_extension": ".py",
   "mimetype": "text/x-python",
   "name": "python",
   "nbconvert_exporter": "python",
   "pygments_lexer": "ipython3",
   "version": "3.8.5"
  }
 },
 "nbformat": 4,
 "nbformat_minor": 5
}
