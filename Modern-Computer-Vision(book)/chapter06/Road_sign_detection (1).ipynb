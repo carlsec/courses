{
  "nbformat": 4,
  "nbformat_minor": 0,
  "metadata": {
    "colab": {
      "name": "Road_sign_detection.ipynb",
      "provenance": []
    },
    "kernelspec": {
      "name": "python3",
      "display_name": "Python 3"
    },
    "accelerator": "GPU"
  },
  "cells": [
    {
      "cell_type": "code",
      "metadata": {
        "colab": {
          "base_uri": "https://localhost:8080/"
        },
        "id": "vkmZwKRj4DXp",
        "outputId": "ad48bd2a-a7ef-4d94-d3ab-61a174ebb087"
      },
      "source": [
        "import os\n",
        "if not os.path.exists('GTSRB'):\n",
        "    !pip install -U -q torch_snippets\n",
        "    !wget -qq https://sid.erda.dk/public/archives/daaeac0d7ce1152aea9b61d9f1e19370/GTSRB_Final_Training_Images.zip\n",
        "    !wget -qq https://sid.erda.dk/public/archives/daaeac0d7ce1152aea9b61d9f1e19370/GTSRB_Final_Test_Images.zip\n",
        "    !unzip -qq GTSRB_Final_Training_Images.zip\n",
        "    !unzip -qq GTSRB_Final_Test_Images.zip\n",
        "    !wget https://raw.githubusercontent.com/georgesung/traffic_sign_classification_german/master/signnames.csv\n",
        "    !rm GTSRB_Final_Training_Images.zip GTSRB_Final_Test_Images.zip"
      ],
      "execution_count": null,
      "outputs": [
        {
          "output_type": "stream",
          "text": [
            "\u001b[?25l\r\u001b[K     |█████▊                          | 10kB 19.9MB/s eta 0:00:01\r\u001b[K     |███████████▌                    | 20kB 6.9MB/s eta 0:00:01\r\u001b[K     |█████████████████▏              | 30kB 6.8MB/s eta 0:00:01\r\u001b[K     |███████████████████████         | 40kB 6.6MB/s eta 0:00:01\r\u001b[K     |████████████████████████████▋   | 51kB 6.3MB/s eta 0:00:01\r\u001b[K     |████████████████████████████████| 61kB 4.5MB/s \n",
            "\u001b[?25h--2021-03-06 04:57:13--  https://raw.githubusercontent.com/georgesung/traffic_sign_classification_german/master/signnames.csv\n",
            "Resolving raw.githubusercontent.com (raw.githubusercontent.com)... 185.199.109.133, 185.199.108.133, 185.199.111.133, ...\n",
            "Connecting to raw.githubusercontent.com (raw.githubusercontent.com)|185.199.109.133|:443... connected.\n",
            "HTTP request sent, awaiting response... 200 OK\n",
            "Length: 999 [text/plain]\n",
            "Saving to: ‘signnames.csv’\n",
            "\n",
            "signnames.csv       100%[===================>]     999  --.-KB/s    in 0s      \n",
            "\n",
            "2021-03-06 04:57:13 (68.1 MB/s) - ‘signnames.csv’ saved [999/999]\n",
            "\n"
          ],
          "name": "stdout"
        }
      ]
    },
    {
      "cell_type": "code",
      "metadata": {
        "colab": {
          "base_uri": "https://localhost:8080/",
          "height": 1000
        },
        "id": "oWjNAEn84sSZ",
        "outputId": "5e358bca-f790-47d5-d160-dffe10c54c4d"
      },
      "source": [
        "from torch_snippets import *\n",
        "classIds = pd.read_csv('signnames.csv')\n",
        "classIds.set_index('ClassId', inplace=True)\n",
        "classIds = classIds.to_dict()['SignName']\n",
        "classIds = {f'{k:05d}':v for k,v in classIds.items()}\n",
        "id2int = {v:ix for ix,(k,v) in enumerate(classIds.items())}\n",
        "\n",
        "from torchvision import transforms as T\n",
        "classIds = pd.read_csv('signnames.csv')\n",
        "classIds.set_index('ClassId', inplace=True)\n",
        "classIds = classIds.to_dict()['SignName']\n",
        "classIds = {f'{k:05d}':v for k,v in classIds.items()}\n",
        "id2int = {v:ix for ix,(k,v) in enumerate(classIds.items())}\n",
        "\n",
        "from torchvision import transforms as T\n",
        "\n",
        "trn_tfms = T.Compose([\n",
        "    T.ToPILImage(),\n",
        "    T.Resize(32),\n",
        "    T.CenterCrop(32),\n",
        "    # T.ColorJitter(brightness=(0.8,1.2), \n",
        "    # contrast=(0.8,1.2), \n",
        "    # saturation=(0.8,1.2), \n",
        "    # hue=0.25),\n",
        "    # T.RandomAffine(5, translate=(0.01,0.1)),\n",
        "    T.ToTensor(),\n",
        "    T.Normalize(mean=[0.485, 0.456, 0.406], \n",
        "                std=[0.229, 0.224, 0.225]),\n",
        "])\n",
        "\n",
        "val_tfms = T.Compose([\n",
        "    T.ToPILImage(),\n",
        "    T.Resize(32),\n",
        "    T.CenterCrop(32),\n",
        "    T.ToTensor(),\n",
        "    T.Normalize(mean=[0.485, 0.456, 0.406], \n",
        "                std=[0.229, 0.224, 0.225]),\n",
        "])\n",
        "\n",
        "class GTSRB(Dataset):\n",
        "    \"\"\"Face Landmarks dataset.\"\"\"\n",
        "\n",
        "    def __init__(self, files, transform=None):\n",
        "        self.files = files\n",
        "        self.transform = transform\n",
        "        logger.info(len(self))\n",
        "\n",
        "    def __len__(self):\n",
        "        return len(self.files)\n",
        "\n",
        "    def __getitem__(self, ix):\n",
        "        fpath = self.files[ix]\n",
        "        clss = fname(parent(fpath))\n",
        "        img = read(fpath, 1)\n",
        "        return img, classIds[clss]\n",
        "\n",
        "    def choose(self):\n",
        "        return self[randint(len(self))]\n",
        "\n",
        "    def collate_fn(self, batch):\n",
        "        imgs, classes = list(zip(*batch))\n",
        "        if self.transform:\n",
        "            imgs = [self.transform(img)[None] for img in imgs]\n",
        "        classes = [torch.tensor([id2int[clss]]) for clss in classes]\n",
        "        imgs, classes = [torch.cat(i).to(device) for i in [imgs, classes]]\n",
        "        return imgs, classes\n",
        "\n",
        "device = 'cuda' if torch.cuda.is_available() else 'cpu'\n",
        "all_files = Glob('GTSRB/Final_Training/Images/*/*.ppm')\n",
        "np.random.seed(10)\n",
        "np.random.shuffle(all_files)\n",
        "\n",
        "from sklearn.model_selection import train_test_split\n",
        "trn_files, val_files = train_test_split(all_files, random_state=1)\n",
        "\n",
        "trn_ds = GTSRB(trn_files, transform=trn_tfms)\n",
        "val_ds = GTSRB(val_files, transform=val_tfms)\n",
        "trn_dl = DataLoader(trn_ds, 32, shuffle=True, collate_fn=trn_ds.collate_fn)\n",
        "val_dl = DataLoader(val_ds, 32, shuffle=False, collate_fn=val_ds.collate_fn)\n",
        "\n",
        "import torchvision.models as models\n",
        "\n",
        "def convBlock(ni, no):\n",
        "    return nn.Sequential(\n",
        "        nn.Dropout(0.2),\n",
        "        nn.Conv2d(ni, no, kernel_size=3, padding=1),\n",
        "        nn.ReLU(inplace=True),\n",
        "        #nn.BatchNorm2d(no),\n",
        "        nn.MaxPool2d(2),\n",
        "    )\n",
        "    \n",
        "class SignClassifier(nn.Module):\n",
        "    def __init__(self):\n",
        "        super().__init__()\n",
        "        self.model = nn.Sequential(\n",
        "            convBlock(3, 64),\n",
        "            convBlock(64, 64),\n",
        "            convBlock(64, 128),\n",
        "            convBlock(128, 64),\n",
        "            nn.Flatten(),\n",
        "            nn.Linear(256, 256),\n",
        "            nn.Dropout(0.2),\n",
        "            nn.ReLU(inplace=True),\n",
        "            nn.Linear(256, len(id2int))\n",
        "        )\n",
        "        self.loss_fn = nn.CrossEntropyLoss()\n",
        "\n",
        "    def forward(self, x):\n",
        "        return self.model(x)\n",
        "\n",
        "    def compute_metrics(self, preds, targets):\n",
        "        ce_loss = self.loss_fn(preds, targets)\n",
        "        acc = (torch.max(preds, 1)[1] == targets).float().mean()\n",
        "        return ce_loss, acc\n",
        "def train_batch(model, data, optimizer, criterion):\n",
        "    ims, labels = data\n",
        "    _preds = model(ims)\n",
        "    optimizer.zero_grad()\n",
        "    loss, acc = criterion(_preds, labels)\n",
        "    loss.backward()\n",
        "    optimizer.step()\n",
        "    return loss.item(), acc.item()\n",
        "\n",
        "@torch.no_grad()\n",
        "def validate_batch(model, data, criterion):\n",
        "    ims, labels = data\n",
        "    _preds = model(ims)\n",
        "    loss, acc = criterion(_preds, labels)\n",
        "    return loss.item(), acc.item()\n",
        "model = SignClassifier().to(device)\n",
        "criterion = model.compute_metrics\n",
        "optimizer = optim.Adam(model.parameters(), lr=1e-3)\n",
        "n_epochs = 40\n",
        "\n",
        "log = Report(n_epochs)\n",
        "for ex in range(n_epochs):\n",
        "    N = len(trn_dl)\n",
        "    for bx, data in enumerate(trn_dl):\n",
        "        loss, acc = train_batch(model, data, optimizer, criterion)\n",
        "        log.record(ex+(bx+1)/N, trn_loss=loss, trn_acc=acc, end='\\r')\n",
        "\n",
        "    N = len(val_dl)\n",
        "    for bx, data in enumerate(val_dl):\n",
        "        loss, acc = validate_batch(model, data, criterion)\n",
        "        log.record(ex+(bx+1)/N, val_loss=loss, val_acc=acc, end='\\r')\n",
        "        \n",
        "    log.report_avgs(ex+1)\n",
        "    if ex == 10: optimizer = optim.Adam(model.parameters(), lr=1e-4)\n",
        "\n",
        "log.plot_epochs()\n",
        "dumpdill(log, 'no-aug-no-bn.log')"
      ],
      "execution_count": null,
      "outputs": [
        {
          "output_type": "stream",
          "text": [
            "2021-03-06 04:57:18.066 | WARNING  | torch_snippets.torch_loader:<module>:232 - Not importing Lightning Report\n",
            "2021-03-06 04:57:18.171 | INFO     | torch_snippets.loader:Glob:221 - 39209 files found at GTSRB/Final_Training/Images/*/*.ppm\n",
            "2021-03-06 04:57:18.808 | INFO     | __main__:__init__:46 - 29406\n",
            "2021-03-06 04:57:18.809 | INFO     | __main__:__init__:46 - 9803\n"
          ],
          "name": "stderr"
        },
        {
          "output_type": "stream",
          "text": [
            "EPOCH: 1.000\ttrn_loss: 2.359\ttrn_acc: 0.293\tval_loss: 1.637\tval_acc: 0.464\t(21.40s - 834.63s remaining)\n",
            "EPOCH: 2.000\ttrn_loss: 1.338\ttrn_acc: 0.560\tval_loss: 1.054\tval_acc: 0.642\t(42.21s - 802.04s remaining)\n",
            "EPOCH: 3.000\ttrn_loss: 0.872\ttrn_acc: 0.709\tval_loss: 0.763\tval_acc: 0.752\t(62.78s - 774.28s remaining)\n",
            "EPOCH: 4.000\ttrn_loss: 0.641\ttrn_acc: 0.785\tval_loss: 0.623\tval_acc: 0.798\t(83.75s - 753.71s remaining)\n",
            "EPOCH: 5.000\ttrn_loss: 0.538\ttrn_acc: 0.821\tval_loss: 0.586\tval_acc: 0.810\t(104.53s - 731.74s remaining)\n",
            "EPOCH: 6.000\ttrn_loss: 0.472\ttrn_acc: 0.844\tval_loss: 0.505\tval_acc: 0.840\t(125.18s - 709.34s remaining)\n",
            "EPOCH: 7.000\ttrn_loss: 0.435\ttrn_acc: 0.858\tval_loss: 0.460\tval_acc: 0.850\t(145.78s - 687.27s remaining)\n",
            "EPOCH: 8.000\ttrn_loss: 0.398\ttrn_acc: 0.869\tval_loss: 0.394\tval_acc: 0.873\t(166.57s - 666.28s remaining)\n",
            "EPOCH: 9.000\ttrn_loss: 0.377\ttrn_acc: 0.877\tval_loss: 0.388\tval_acc: 0.877\t(187.23s - 644.91s remaining)\n",
            "EPOCH: 10.000\ttrn_loss: 0.364\ttrn_acc: 0.882\tval_loss: 0.366\tval_acc: 0.881\t(207.87s - 623.60s remaining)\n",
            "EPOCH: 11.000\ttrn_loss: 0.329\ttrn_acc: 0.894\tval_loss: 0.377\tval_acc: 0.881\t(228.65s - 602.81s remaining)\n",
            "EPOCH: 12.000\ttrn_loss: 0.241\ttrn_acc: 0.920\tval_loss: 0.268\tval_acc: 0.913\t(249.39s - 581.90s remaining)\n",
            "EPOCH: 13.000\ttrn_loss: 0.216\ttrn_acc: 0.929\tval_loss: 0.245\tval_acc: 0.922\t(270.07s - 560.91s remaining)\n",
            "EPOCH: 14.000\ttrn_loss: 0.206\ttrn_acc: 0.931\tval_loss: 0.241\tval_acc: 0.920\t(290.99s - 540.40s remaining)\n",
            "EPOCH: 15.000\ttrn_loss: 0.194\ttrn_acc: 0.934\tval_loss: 0.243\tval_acc: 0.922\t(311.83s - 519.71s remaining)\n",
            "EPOCH: 16.000\ttrn_loss: 0.183\ttrn_acc: 0.940\tval_loss: 0.227\tval_acc: 0.929\t(332.38s - 498.57s remaining)\n",
            "EPOCH: 17.000\ttrn_loss: 0.182\ttrn_acc: 0.939\tval_loss: 0.224\tval_acc: 0.927\t(352.95s - 477.51s remaining)\n",
            "EPOCH: 18.000\ttrn_loss: 0.179\ttrn_acc: 0.940\tval_loss: 0.206\tval_acc: 0.934\t(373.43s - 456.41s remaining)\n",
            "EPOCH: 19.000\ttrn_loss: 0.180\ttrn_acc: 0.939\tval_loss: 0.219\tval_acc: 0.929\t(393.83s - 435.28s remaining)\n",
            "EPOCH: 20.000\ttrn_loss: 0.166\ttrn_acc: 0.943\tval_loss: 0.211\tval_acc: 0.933\t(414.52s - 414.52s remaining)\n",
            "EPOCH: 21.000\ttrn_loss: 0.165\ttrn_acc: 0.945\tval_loss: 0.207\tval_acc: 0.936\t(434.95s - 393.52s remaining)\n",
            "EPOCH: 22.000\ttrn_loss: 0.171\ttrn_acc: 0.944\tval_loss: 0.205\tval_acc: 0.934\t(455.22s - 372.45s remaining)\n",
            "EPOCH: 23.000\ttrn_loss: 0.163\ttrn_acc: 0.944\tval_loss: 0.214\tval_acc: 0.932\t(475.49s - 351.45s remaining)\n",
            "EPOCH: 24.000\ttrn_loss: 0.158\ttrn_acc: 0.949\tval_loss: 0.213\tval_acc: 0.932\t(495.81s - 330.54s remaining)\n",
            "EPOCH: 25.000\ttrn_loss: 0.154\ttrn_acc: 0.948\tval_loss: 0.212\tval_acc: 0.935\t(516.10s - 309.66s remaining)\n",
            "EPOCH: 26.000\ttrn_loss: 0.154\ttrn_acc: 0.948\tval_loss: 0.203\tval_acc: 0.937\t(536.51s - 288.89s remaining)\n",
            "EPOCH: 27.000\ttrn_loss: 0.155\ttrn_acc: 0.949\tval_loss: 0.200\tval_acc: 0.938\t(556.77s - 268.07s remaining)\n",
            "EPOCH: 28.000\ttrn_loss: 0.146\ttrn_acc: 0.951\tval_loss: 0.187\tval_acc: 0.942\t(577.35s - 247.44s remaining)\n",
            "EPOCH: 29.000\ttrn_loss: 0.151\ttrn_acc: 0.949\tval_loss: 0.183\tval_acc: 0.940\t(597.81s - 226.76s remaining)\n",
            "EPOCH: 30.000\ttrn_loss: 0.143\ttrn_acc: 0.953\tval_loss: 0.198\tval_acc: 0.939\t(618.15s - 206.05s remaining)\n",
            "EPOCH: 31.000\ttrn_loss: 0.143\ttrn_acc: 0.950\tval_loss: 0.186\tval_acc: 0.942\t(638.58s - 185.39s remaining)\n",
            "EPOCH: 32.000\ttrn_loss: 0.141\ttrn_acc: 0.953\tval_loss: 0.176\tval_acc: 0.944\t(659.00s - 164.75s remaining)\n",
            "EPOCH: 33.000\ttrn_loss: 0.137\ttrn_acc: 0.955\tval_loss: 0.196\tval_acc: 0.937\t(679.48s - 144.13s remaining)\n",
            "EPOCH: 34.000\ttrn_loss: 0.135\ttrn_acc: 0.954\tval_loss: 0.173\tval_acc: 0.943\t(699.77s - 123.49s remaining)\n",
            "EPOCH: 35.000\ttrn_loss: 0.136\ttrn_acc: 0.954\tval_loss: 0.172\tval_acc: 0.945\t(720.18s - 102.88s remaining)\n",
            "EPOCH: 36.000\ttrn_loss: 0.133\ttrn_acc: 0.954\tval_loss: 0.176\tval_acc: 0.947\t(740.57s - 82.29s remaining)\n",
            "EPOCH: 37.000\ttrn_loss: 0.132\ttrn_acc: 0.955\tval_loss: 0.181\tval_acc: 0.941\t(760.87s - 61.69s remaining)\n",
            "EPOCH: 38.000\ttrn_loss: 0.130\ttrn_acc: 0.955\tval_loss: 0.177\tval_acc: 0.943\t(781.32s - 41.12s remaining)\n",
            "EPOCH: 39.000\ttrn_loss: 0.130\ttrn_acc: 0.958\tval_loss: 0.189\tval_acc: 0.941\t(801.77s - 20.56s remaining)\n",
            "EPOCH: 39.974\tval_loss: 0.016\tval_acc: 1.000\t(822.09s - 0.54s remaining)"
          ],
          "name": "stdout"
        },
        {
          "output_type": "stream",
          "text": [
            "\r  0%|          | 0/141 [00:00<?, ?it/s]"
          ],
          "name": "stderr"
        },
        {
          "output_type": "stream",
          "text": [
            "\rEPOCH: 39.977\tval_loss: 0.108\tval_acc: 0.969\t(822.10s - 0.47s remaining)\rEPOCH: 39.980\tval_loss: 0.104\tval_acc: 0.969\t(822.12s - 0.40s remaining)\rEPOCH: 39.984\tval_loss: 0.088\tval_acc: 0.969\t(822.13s - 0.33s remaining)\rEPOCH: 39.987\tval_loss: 0.467\tval_acc: 0.844\t(822.14s - 0.27s remaining)\rEPOCH: 39.990\tval_loss: 0.064\tval_acc: 0.969\t(822.16s - 0.20s remaining)\rEPOCH: 39.993\tval_loss: 0.270\tval_acc: 0.906\t(822.17s - 0.13s remaining)\rEPOCH: 39.997\tval_loss: 0.290\tval_acc: 0.906\t(822.19s - 0.07s remaining)\rEPOCH: 40.000\tval_loss: 0.000\tval_acc: 1.000\t(822.19s - 0.00s remaining)\rEPOCH: 40.000\ttrn_loss: 0.120\ttrn_acc: 0.959\tval_loss: 0.184\tval_acc: 0.941\t(822.21s - 0.00s remaining)\n"
          ],
          "name": "stdout"
        },
        {
          "output_type": "stream",
          "text": [
            "100%|██████████| 141/141 [00:03<00:00, 46.41it/s]\n"
          ],
          "name": "stderr"
        },
        {
          "output_type": "display_data",
          "data": {
            "image/png": "[encoded data removed]",
            "text/plain": [
              "<Figure size 576x432 with 1 Axes>"
            ]
          },
          "metadata": {
            "tags": [],
            "needs_background": "light"
          }
        },
        {
          "output_type": "stream",
          "text": [
            "2021-03-06 05:11:15.717 | INFO     | torch_snippets.loader:dumpdill:366 - Dumped object of size `~2 MB` @ \"no-aug-no-bn.log\" in 1.49 seconds\n"
          ],
          "name": "stderr"
        }
      ]
    },
    {
      "cell_type": "code",
      "metadata": {
        "id": "oDMm-0Bx4sU4"
      },
      "source": [
        ""
      ],
      "execution_count": null,
      "outputs": []
    },
    {
      "cell_type": "code",
      "metadata": {
        "id": "vXiqdp0Z4sXi"
      },
      "source": [
        ""
      ],
      "execution_count": null,
      "outputs": []
    },
    {
      "cell_type": "code",
      "metadata": {
        "id": "ebKcwcdi4sZ8"
      },
      "source": [
        ""
      ],
      "execution_count": null,
      "outputs": []
    }
  ]
}