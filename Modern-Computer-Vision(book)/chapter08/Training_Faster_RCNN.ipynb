{
  "nbformat": 4,
  "nbformat_minor": 0,
  "metadata": {
    "colab": {
      "name": "Training_Faster_RCNN.ipynb",
      "provenance": []
    },
    "kernelspec": {
      "name": "python3",
      "display_name": "Python 3"
    },
    "language_info": {
      "name": "python"
    },
    "accelerator": "GPU",
    "widgets": {
      "application/vnd.jupyter.widget-state+json": {
        "b6992e1fd25944f4b29d1a5cf1c3be82": {
          "model_module": "@jupyter-widgets/controls",
          "model_name": "HBoxModel",
          "state": {
            "_view_name": "HBoxView",
            "_dom_classes": [],
            "_model_name": "HBoxModel",
            "_view_module": "@jupyter-widgets/controls",
            "_model_module_version": "1.5.0",
            "_view_count": null,
            "_view_module_version": "1.5.0",
            "box_style": "",
            "layout": "IPY_MODEL_52c3e61a99a242b2bda07c8236dc72a9",
            "_model_module": "@jupyter-widgets/controls",
            "children": [
              "IPY_MODEL_99d5385519934d648aae9c37011949e8",
              "IPY_MODEL_2de5bd8063d44956963c389c358f9ecf"
            ]
          }
        },
        "52c3e61a99a242b2bda07c8236dc72a9": {
          "model_module": "@jupyter-widgets/base",
          "model_name": "LayoutModel",
          "state": {
            "_view_name": "LayoutView",
            "grid_template_rows": null,
            "right": null,
            "justify_content": null,
            "_view_module": "@jupyter-widgets/base",
            "overflow": null,
            "_model_module_version": "1.2.0",
            "_view_count": null,
            "flex_flow": null,
            "width": null,
            "min_width": null,
            "border": null,
            "align_items": null,
            "bottom": null,
            "_model_module": "@jupyter-widgets/base",
            "top": null,
            "grid_column": null,
            "overflow_y": null,
            "overflow_x": null,
            "grid_auto_flow": null,
            "grid_area": null,
            "grid_template_columns": null,
            "flex": null,
            "_model_name": "LayoutModel",
            "justify_items": null,
            "grid_row": null,
            "max_height": null,
            "align_content": null,
            "visibility": null,
            "align_self": null,
            "height": null,
            "min_height": null,
            "padding": null,
            "grid_auto_rows": null,
            "grid_gap": null,
            "max_width": null,
            "order": null,
            "_view_module_version": "1.2.0",
            "grid_template_areas": null,
            "object_position": null,
            "object_fit": null,
            "grid_auto_columns": null,
            "margin": null,
            "display": null,
            "left": null
          }
        },
        "99d5385519934d648aae9c37011949e8": {
          "model_module": "@jupyter-widgets/controls",
          "model_name": "FloatProgressModel",
          "state": {
            "_view_name": "ProgressView",
            "style": "IPY_MODEL_1a51b5fc85274f43863b58085ad43ddf",
            "_dom_classes": [],
            "description": "100%",
            "_model_name": "FloatProgressModel",
            "bar_style": "success",
            "max": 167502836,
            "_view_module": "@jupyter-widgets/controls",
            "_model_module_version": "1.5.0",
            "value": 167502836,
            "_view_count": null,
            "_view_module_version": "1.5.0",
            "orientation": "horizontal",
            "min": 0,
            "description_tooltip": null,
            "_model_module": "@jupyter-widgets/controls",
            "layout": "IPY_MODEL_4a94d6384d55407f8c1f103522e292eb"
          }
        },
        "2de5bd8063d44956963c389c358f9ecf": {
          "model_module": "@jupyter-widgets/controls",
          "model_name": "HTMLModel",
          "state": {
            "_view_name": "HTMLView",
            "style": "IPY_MODEL_ed12c26b41134b059382a7636342b8fe",
            "_dom_classes": [],
            "description": "",
            "_model_name": "HTMLModel",
            "placeholder": "​",
            "_view_module": "@jupyter-widgets/controls",
            "_model_module_version": "1.5.0",
            "value": " 160M/160M [00:20&lt;00:00, 8.23MB/s]",
            "_view_count": null,
            "_view_module_version": "1.5.0",
            "description_tooltip": null,
            "_model_module": "@jupyter-widgets/controls",
            "layout": "IPY_MODEL_d038bc6b070149c5bb09ea9dd0e269c6"
          }
        },
        "1a51b5fc85274f43863b58085ad43ddf": {
          "model_module": "@jupyter-widgets/controls",
          "model_name": "ProgressStyleModel",
          "state": {
            "_view_name": "StyleView",
            "_model_name": "ProgressStyleModel",
            "description_width": "initial",
            "_view_module": "@jupyter-widgets/base",
            "_model_module_version": "1.5.0",
            "_view_count": null,
            "_view_module_version": "1.2.0",
            "bar_color": null,
            "_model_module": "@jupyter-widgets/controls"
          }
        },
        "4a94d6384d55407f8c1f103522e292eb": {
          "model_module": "@jupyter-widgets/base",
          "model_name": "LayoutModel",
          "state": {
            "_view_name": "LayoutView",
            "grid_template_rows": null,
            "right": null,
            "justify_content": null,
            "_view_module": "@jupyter-widgets/base",
            "overflow": null,
            "_model_module_version": "1.2.0",
            "_view_count": null,
            "flex_flow": null,
            "width": null,
            "min_width": null,
            "border": null,
            "align_items": null,
            "bottom": null,
            "_model_module": "@jupyter-widgets/base",
            "top": null,
            "grid_column": null,
            "overflow_y": null,
            "overflow_x": null,
            "grid_auto_flow": null,
            "grid_area": null,
            "grid_template_columns": null,
            "flex": null,
            "_model_name": "LayoutModel",
            "justify_items": null,
            "grid_row": null,
            "max_height": null,
            "align_content": null,
            "visibility": null,
            "align_self": null,
            "height": null,
            "min_height": null,
            "padding": null,
            "grid_auto_rows": null,
            "grid_gap": null,
            "max_width": null,
            "order": null,
            "_view_module_version": "1.2.0",
            "grid_template_areas": null,
            "object_position": null,
            "object_fit": null,
            "grid_auto_columns": null,
            "margin": null,
            "display": null,
            "left": null
          }
        },
        "ed12c26b41134b059382a7636342b8fe": {
          "model_module": "@jupyter-widgets/controls",
          "model_name": "DescriptionStyleModel",
          "state": {
            "_view_name": "StyleView",
            "_model_name": "DescriptionStyleModel",
            "description_width": "",
            "_view_module": "@jupyter-widgets/base",
            "_model_module_version": "1.5.0",
            "_view_count": null,
            "_view_module_version": "1.2.0",
            "_model_module": "@jupyter-widgets/controls"
          }
        },
        "d038bc6b070149c5bb09ea9dd0e269c6": {
          "model_module": "@jupyter-widgets/base",
          "model_name": "LayoutModel",
          "state": {
            "_view_name": "LayoutView",
            "grid_template_rows": null,
            "right": null,
            "justify_content": null,
            "_view_module": "@jupyter-widgets/base",
            "overflow": null,
            "_model_module_version": "1.2.0",
            "_view_count": null,
            "flex_flow": null,
            "width": null,
            "min_width": null,
            "border": null,
            "align_items": null,
            "bottom": null,
            "_model_module": "@jupyter-widgets/base",
            "top": null,
            "grid_column": null,
            "overflow_y": null,
            "overflow_x": null,
            "grid_auto_flow": null,
            "grid_area": null,
            "grid_template_columns": null,
            "flex": null,
            "_model_name": "LayoutModel",
            "justify_items": null,
            "grid_row": null,
            "max_height": null,
            "align_content": null,
            "visibility": null,
            "align_self": null,
            "height": null,
            "min_height": null,
            "padding": null,
            "grid_auto_rows": null,
            "grid_gap": null,
            "max_width": null,
            "order": null,
            "_view_module_version": "1.2.0",
            "grid_template_areas": null,
            "object_position": null,
            "object_fit": null,
            "grid_auto_columns": null,
            "margin": null,
            "display": null,
            "left": null
          }
        }
      }
    }
  },
  "cells": [
    {
      "cell_type": "code",
      "metadata": {
        "colab": {
          "resources": {
            "http://localhost:8080/nbextensions/google.colab/files.js": {
              "data": "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",
              "ok": true,
              "headers": [
                [
                  "content-type",
                  "application/javascript"
                ]
              ],
              "status": 200,
              "status_text": ""
            }
          },
          "base_uri": "https://localhost:8080/",
          "height": 208
        },
        "id": "AmXSHLKjPOO2",
        "outputId": "c8415c54-358c-4711-8116-12da6381c354"
      },
      "source": [
        "import os\n",
        "if not os.path.exists('images'):\n",
        "    !pip install -qU torch_snippets\n",
        "    from google.colab import files\n",
        "    files.upload() # upload kaggle.json\n",
        "    !mkdir -p ~/.kaggle\n",
        "    !mv kaggle.json ~/.kaggle/\n",
        "    !ls ~/.kaggle\n",
        "    !chmod 600 /root/.kaggle/kaggle.json\n",
        "    !kaggle datasets download -d sixhky/open-images-bus-trucks/\n",
        "    !unzip -qq open-images-bus-trucks.zip\n",
        "    !rm open-images-bus-trucks.zip"
      ],
      "execution_count": null,
      "outputs": [
        {
          "output_type": "stream",
          "text": [
            "\u001b[K     |████████████████████████████████| 204kB 13.4MB/s \n",
            "\u001b[K     |████████████████████████████████| 61kB 6.3MB/s \n",
            "\u001b[K     |████████████████████████████████| 61kB 7.2MB/s \n",
            "\u001b[K     |████████████████████████████████| 51kB 7.0MB/s \n",
            "\u001b[?25h"
          ],
          "name": "stdout"
        },
        {
          "output_type": "display_data",
          "data": {
            "text/html": [
              "\n",
              "     <input type=\"file\" id=\"files-9d656a8d-fcb3-406b-a6c4-e8c46ff9eb11\" name=\"files[]\" multiple disabled\n",
              "        style=\"border:none\" />\n",
              "     <output id=\"result-9d656a8d-fcb3-406b-a6c4-e8c46ff9eb11\">\n",
              "      Upload widget is only available when the cell has been executed in the\n",
              "      current browser session. Please rerun this cell to enable.\n",
              "      </output>\n",
              "      <script src=\"/nbextensions/google.colab/files.js\"></script> "
            ],
            "text/plain": [
              "<IPython.core.display.HTML object>"
            ]
          },
          "metadata": {
            "tags": []
          }
        },
        {
          "output_type": "stream",
          "text": [
            "Saving kaggle.json to kaggle.json\n",
            "kaggle.json\n",
            "Downloading open-images-bus-trucks.zip to /content\n",
            " 99% 364M/367M [00:05<00:00, 51.0MB/s]\n",
            "100% 367M/367M [00:05<00:00, 76.4MB/s]\n"
          ],
          "name": "stdout"
        }
      ]
    },
    {
      "cell_type": "code",
      "metadata": {
        "colab": {
          "base_uri": "https://localhost:8080/",
          "height": 65
        },
        "id": "V029NKyiQlxK",
        "outputId": "8b3ad0e8-547a-4bd4-dddc-88a8f9ff397f"
      },
      "source": [
        "from torch_snippets import *\n",
        "from PIL import Image\n",
        "IMAGE_ROOT = 'images/images'\n",
        "DF_RAW = df = pd.read_csv('df.csv')"
      ],
      "execution_count": null,
      "outputs": [
        {
          "output_type": "display_data",
          "data": {
            "text/html": [
              "<pre style=\"white-space:pre;overflow-x:auto;line-height:normal;font-family:Menlo,'DejaVu Sans Mono',consolas,'Courier New',monospace\"><span style=\"color: #7fbfbf; text-decoration-color: #7fbfbf\">[04/01/21 23:47:15] </span><span style=\"color: #bf7f7f; text-decoration-color: #bf7f7f\">WARNING </span> Not importing Lightning Report      <a href=\"file:///usr/local/lib/python3.7/dist-packages/torch_snippets/torch_loader.py\"><span style=\"color: #7f7f7f; text-decoration-color: #7f7f7f\">torch_loader.py</span></a><span style=\"color: #7f7f7f; text-decoration-color: #7f7f7f\">:&lt;module&gt;:233</span>\n",
              "</pre>\n"
            ],
            "text/plain": [
              "<rich.jupyter.JupyterRenderable at 0x7fee5bf8d910>"
            ]
          },
          "metadata": {
            "tags": []
          }
        },
        {
          "output_type": "display_data",
          "data": {
            "text/html": [
              "<pre style=\"white-space:pre;overflow-x:auto;line-height:normal;font-family:Menlo,'DejaVu Sans Mono',consolas,'Courier New',monospace\"><span style=\"color: #7fbfbf; text-decoration-color: #7fbfbf\">[04/01/21 23:47:16] </span><span style=\"color: #bf7f7f; text-decoration-color: #bf7f7f\">WARNING </span> sklearn is not found. Skipping relevant  <a href=\"file:///usr/local/lib/python3.7/dist-packages/torch_snippets/__init__.py\"><span style=\"color: #7f7f7f; text-decoration-color: #7f7f7f\">__init__.py</span></a><span style=\"color: #7f7f7f; text-decoration-color: #7f7f7f\">:&lt;module&gt;:13</span>\n",
              "                             imports from submodule `sklegos`                                \n",
              "</pre>\n"
            ],
            "text/plain": [
              "<rich.jupyter.JupyterRenderable at 0x7fee34122910>"
            ]
          },
          "metadata": {
            "tags": []
          }
        }
      ]
    },
    {
      "cell_type": "code",
      "metadata": {
        "colab": {
          "base_uri": "https://localhost:8080/",
          "height": 439
        },
        "id": "59KQ0MqgUdqB",
        "outputId": "824475a6-d04f-4b99-e2a4-4d6cf9521b10"
      },
      "source": [
        "df"
      ],
      "execution_count": null,
      "outputs": [
        {
          "output_type": "execute_result",
          "data": {
            "text/html": [
              "<div>\n",
              "<style scoped>\n",
              "    .dataframe tbody tr th:only-of-type {\n",
              "        vertical-align: middle;\n",
              "    }\n",
              "\n",
              "    .dataframe tbody tr th {\n",
              "        vertical-align: top;\n",
              "    }\n",
              "\n",
              "    .dataframe thead th {\n",
              "        text-align: right;\n",
              "    }\n",
              "</style>\n",
              "<table border=\"1\" class=\"dataframe\">\n",
              "  <thead>\n",
              "    <tr style=\"text-align: right;\">\n",
              "      <th></th>\n",
              "      <th>ImageID</th>\n",
              "      <th>Source</th>\n",
              "      <th>LabelName</th>\n",
              "      <th>Confidence</th>\n",
              "      <th>XMin</th>\n",
              "      <th>XMax</th>\n",
              "      <th>YMin</th>\n",
              "      <th>YMax</th>\n",
              "      <th>IsOccluded</th>\n",
              "      <th>IsTruncated</th>\n",
              "      <th>IsGroupOf</th>\n",
              "      <th>IsDepiction</th>\n",
              "      <th>IsInside</th>\n",
              "      <th>XClick1X</th>\n",
              "      <th>XClick2X</th>\n",
              "      <th>XClick3X</th>\n",
              "      <th>XClick4X</th>\n",
              "      <th>XClick1Y</th>\n",
              "      <th>XClick2Y</th>\n",
              "      <th>XClick3Y</th>\n",
              "      <th>XClick4Y</th>\n",
              "    </tr>\n",
              "  </thead>\n",
              "  <tbody>\n",
              "    <tr>\n",
              "      <th>0</th>\n",
              "      <td>0000599864fd15b3</td>\n",
              "      <td>xclick</td>\n",
              "      <td>Bus</td>\n",
              "      <td>1</td>\n",
              "      <td>0.343750</td>\n",
              "      <td>0.908750</td>\n",
              "      <td>0.156162</td>\n",
              "      <td>0.650047</td>\n",
              "      <td>1</td>\n",
              "      <td>0</td>\n",
              "      <td>0</td>\n",
              "      <td>0</td>\n",
              "      <td>0</td>\n",
              "      <td>0.421875</td>\n",
              "      <td>0.343750</td>\n",
              "      <td>0.795000</td>\n",
              "      <td>0.908750</td>\n",
              "      <td>0.156162</td>\n",
              "      <td>0.512700</td>\n",
              "      <td>0.650047</td>\n",
              "      <td>0.457197</td>\n",
              "    </tr>\n",
              "    <tr>\n",
              "      <th>1</th>\n",
              "      <td>00006bdb1eb5cd74</td>\n",
              "      <td>xclick</td>\n",
              "      <td>Truck</td>\n",
              "      <td>1</td>\n",
              "      <td>0.276667</td>\n",
              "      <td>0.697500</td>\n",
              "      <td>0.141604</td>\n",
              "      <td>0.437343</td>\n",
              "      <td>1</td>\n",
              "      <td>0</td>\n",
              "      <td>0</td>\n",
              "      <td>0</td>\n",
              "      <td>0</td>\n",
              "      <td>0.299167</td>\n",
              "      <td>0.276667</td>\n",
              "      <td>0.697500</td>\n",
              "      <td>0.659167</td>\n",
              "      <td>0.141604</td>\n",
              "      <td>0.241855</td>\n",
              "      <td>0.352130</td>\n",
              "      <td>0.437343</td>\n",
              "    </tr>\n",
              "    <tr>\n",
              "      <th>2</th>\n",
              "      <td>00006bdb1eb5cd74</td>\n",
              "      <td>xclick</td>\n",
              "      <td>Truck</td>\n",
              "      <td>1</td>\n",
              "      <td>0.702500</td>\n",
              "      <td>0.999167</td>\n",
              "      <td>0.204261</td>\n",
              "      <td>0.409774</td>\n",
              "      <td>1</td>\n",
              "      <td>1</td>\n",
              "      <td>0</td>\n",
              "      <td>0</td>\n",
              "      <td>0</td>\n",
              "      <td>0.849167</td>\n",
              "      <td>0.702500</td>\n",
              "      <td>0.906667</td>\n",
              "      <td>0.999167</td>\n",
              "      <td>0.204261</td>\n",
              "      <td>0.398496</td>\n",
              "      <td>0.409774</td>\n",
              "      <td>0.295739</td>\n",
              "    </tr>\n",
              "    <tr>\n",
              "      <th>3</th>\n",
              "      <td>00010bf498b64bab</td>\n",
              "      <td>xclick</td>\n",
              "      <td>Bus</td>\n",
              "      <td>1</td>\n",
              "      <td>0.156250</td>\n",
              "      <td>0.371250</td>\n",
              "      <td>0.269188</td>\n",
              "      <td>0.705228</td>\n",
              "      <td>0</td>\n",
              "      <td>0</td>\n",
              "      <td>0</td>\n",
              "      <td>0</td>\n",
              "      <td>0</td>\n",
              "      <td>0.274375</td>\n",
              "      <td>0.371250</td>\n",
              "      <td>0.311875</td>\n",
              "      <td>0.156250</td>\n",
              "      <td>0.269188</td>\n",
              "      <td>0.493882</td>\n",
              "      <td>0.705228</td>\n",
              "      <td>0.521691</td>\n",
              "    </tr>\n",
              "    <tr>\n",
              "      <th>4</th>\n",
              "      <td>00013f14dd4e168f</td>\n",
              "      <td>xclick</td>\n",
              "      <td>Bus</td>\n",
              "      <td>1</td>\n",
              "      <td>0.287500</td>\n",
              "      <td>0.999375</td>\n",
              "      <td>0.194184</td>\n",
              "      <td>0.999062</td>\n",
              "      <td>0</td>\n",
              "      <td>1</td>\n",
              "      <td>0</td>\n",
              "      <td>0</td>\n",
              "      <td>0</td>\n",
              "      <td>0.920000</td>\n",
              "      <td>0.999375</td>\n",
              "      <td>0.648750</td>\n",
              "      <td>0.287500</td>\n",
              "      <td>0.194184</td>\n",
              "      <td>0.303940</td>\n",
              "      <td>0.999062</td>\n",
              "      <td>0.523452</td>\n",
              "    </tr>\n",
              "    <tr>\n",
              "      <th>...</th>\n",
              "      <td>...</td>\n",
              "      <td>...</td>\n",
              "      <td>...</td>\n",
              "      <td>...</td>\n",
              "      <td>...</td>\n",
              "      <td>...</td>\n",
              "      <td>...</td>\n",
              "      <td>...</td>\n",
              "      <td>...</td>\n",
              "      <td>...</td>\n",
              "      <td>...</td>\n",
              "      <td>...</td>\n",
              "      <td>...</td>\n",
              "      <td>...</td>\n",
              "      <td>...</td>\n",
              "      <td>...</td>\n",
              "      <td>...</td>\n",
              "      <td>...</td>\n",
              "      <td>...</td>\n",
              "      <td>...</td>\n",
              "      <td>...</td>\n",
              "    </tr>\n",
              "    <tr>\n",
              "      <th>24057</th>\n",
              "      <td>fff2b15ad6007d0e</td>\n",
              "      <td>activemil</td>\n",
              "      <td>Truck</td>\n",
              "      <td>1</td>\n",
              "      <td>0.277344</td>\n",
              "      <td>0.622656</td>\n",
              "      <td>0.226389</td>\n",
              "      <td>0.859722</td>\n",
              "      <td>0</td>\n",
              "      <td>0</td>\n",
              "      <td>0</td>\n",
              "      <td>0</td>\n",
              "      <td>0</td>\n",
              "      <td>-1.000000</td>\n",
              "      <td>-1.000000</td>\n",
              "      <td>-1.000000</td>\n",
              "      <td>-1.000000</td>\n",
              "      <td>-1.000000</td>\n",
              "      <td>-1.000000</td>\n",
              "      <td>-1.000000</td>\n",
              "      <td>-1.000000</td>\n",
              "    </tr>\n",
              "    <tr>\n",
              "      <th>24058</th>\n",
              "      <td>fff376d20410e4c9</td>\n",
              "      <td>xclick</td>\n",
              "      <td>Bus</td>\n",
              "      <td>1</td>\n",
              "      <td>0.295625</td>\n",
              "      <td>0.558750</td>\n",
              "      <td>0.306667</td>\n",
              "      <td>0.397500</td>\n",
              "      <td>1</td>\n",
              "      <td>0</td>\n",
              "      <td>0</td>\n",
              "      <td>1</td>\n",
              "      <td>0</td>\n",
              "      <td>0.424375</td>\n",
              "      <td>0.316250</td>\n",
              "      <td>0.295625</td>\n",
              "      <td>0.558750</td>\n",
              "      <td>0.306667</td>\n",
              "      <td>0.397500</td>\n",
              "      <td>0.382500</td>\n",
              "      <td>0.335833</td>\n",
              "    </tr>\n",
              "    <tr>\n",
              "      <th>24059</th>\n",
              "      <td>fff376d20410e4c9</td>\n",
              "      <td>xclick</td>\n",
              "      <td>Bus</td>\n",
              "      <td>1</td>\n",
              "      <td>0.348125</td>\n",
              "      <td>0.701250</td>\n",
              "      <td>0.423333</td>\n",
              "      <td>0.744167</td>\n",
              "      <td>0</td>\n",
              "      <td>0</td>\n",
              "      <td>0</td>\n",
              "      <td>1</td>\n",
              "      <td>0</td>\n",
              "      <td>0.478750</td>\n",
              "      <td>0.493125</td>\n",
              "      <td>0.348125</td>\n",
              "      <td>0.701250</td>\n",
              "      <td>0.423333</td>\n",
              "      <td>0.744167</td>\n",
              "      <td>0.537500</td>\n",
              "      <td>0.523333</td>\n",
              "    </tr>\n",
              "    <tr>\n",
              "      <th>24060</th>\n",
              "      <td>fffde5953a818927</td>\n",
              "      <td>xclick</td>\n",
              "      <td>Bus</td>\n",
              "      <td>1</td>\n",
              "      <td>0.277500</td>\n",
              "      <td>0.605625</td>\n",
              "      <td>0.565000</td>\n",
              "      <td>0.795833</td>\n",
              "      <td>0</td>\n",
              "      <td>0</td>\n",
              "      <td>0</td>\n",
              "      <td>0</td>\n",
              "      <td>0</td>\n",
              "      <td>0.488125</td>\n",
              "      <td>0.277500</td>\n",
              "      <td>0.517500</td>\n",
              "      <td>0.605625</td>\n",
              "      <td>0.565000</td>\n",
              "      <td>0.670000</td>\n",
              "      <td>0.795833</td>\n",
              "      <td>0.704167</td>\n",
              "    </tr>\n",
              "    <tr>\n",
              "      <th>24061</th>\n",
              "      <td>fffde5953a818927</td>\n",
              "      <td>xclick</td>\n",
              "      <td>Bus</td>\n",
              "      <td>1</td>\n",
              "      <td>0.613125</td>\n",
              "      <td>0.828750</td>\n",
              "      <td>0.623333</td>\n",
              "      <td>0.795833</td>\n",
              "      <td>1</td>\n",
              "      <td>0</td>\n",
              "      <td>0</td>\n",
              "      <td>0</td>\n",
              "      <td>0</td>\n",
              "      <td>0.715000</td>\n",
              "      <td>0.828750</td>\n",
              "      <td>0.710000</td>\n",
              "      <td>0.613125</td>\n",
              "      <td>0.623333</td>\n",
              "      <td>0.760833</td>\n",
              "      <td>0.795833</td>\n",
              "      <td>0.730000</td>\n",
              "    </tr>\n",
              "  </tbody>\n",
              "</table>\n",
              "<p>24062 rows × 21 columns</p>\n",
              "</div>"
            ],
            "text/plain": [
              "                ImageID     Source LabelName  ...  XClick2Y  XClick3Y  XClick4Y\n",
              "0      0000599864fd15b3     xclick       Bus  ...  0.512700  0.650047  0.457197\n",
              "1      00006bdb1eb5cd74     xclick     Truck  ...  0.241855  0.352130  0.437343\n",
              "2      00006bdb1eb5cd74     xclick     Truck  ...  0.398496  0.409774  0.295739\n",
              "3      00010bf498b64bab     xclick       Bus  ...  0.493882  0.705228  0.521691\n",
              "4      00013f14dd4e168f     xclick       Bus  ...  0.303940  0.999062  0.523452\n",
              "...                 ...        ...       ...  ...       ...       ...       ...\n",
              "24057  fff2b15ad6007d0e  activemil     Truck  ... -1.000000 -1.000000 -1.000000\n",
              "24058  fff376d20410e4c9     xclick       Bus  ...  0.397500  0.382500  0.335833\n",
              "24059  fff376d20410e4c9     xclick       Bus  ...  0.744167  0.537500  0.523333\n",
              "24060  fffde5953a818927     xclick       Bus  ...  0.670000  0.795833  0.704167\n",
              "24061  fffde5953a818927     xclick       Bus  ...  0.760833  0.795833  0.730000\n",
              "\n",
              "[24062 rows x 21 columns]"
            ]
          },
          "metadata": {
            "tags": []
          },
          "execution_count": 3
        }
      ]
    },
    {
      "cell_type": "code",
      "metadata": {
        "id": "3CnwJewuQlz5"
      },
      "source": [
        "label2target = {l:t+1 for t,l in enumerate(DF_RAW['LabelName'].unique())}\n",
        "label2target['background'] = 0\n",
        "target2label = {t:l for l,t in label2target.items()}\n",
        "background_class = label2target['background']\n",
        "num_classes = len(label2target)"
      ],
      "execution_count": null,
      "outputs": []
    },
    {
      "cell_type": "code",
      "metadata": {
        "colab": {
          "base_uri": "https://localhost:8080/"
        },
        "id": "1rnBUstPUwfA",
        "outputId": "e83e99ee-a970-40a8-c080-cf31a2310222"
      },
      "source": [
        "label2target"
      ],
      "execution_count": null,
      "outputs": [
        {
          "output_type": "execute_result",
          "data": {
            "text/plain": [
              "{'Bus': 1, 'Truck': 2, 'background': 0}"
            ]
          },
          "metadata": {
            "tags": []
          },
          "execution_count": 5
        }
      ]
    },
    {
      "cell_type": "code",
      "metadata": {
        "id": "jTbcbWJa1ax5",
        "colab": {
          "base_uri": "https://localhost:8080/"
        },
        "outputId": "9775d0a8-1d49-4513-88e2-65c93aeb6458"
      },
      "source": [
        "target2label"
      ],
      "execution_count": null,
      "outputs": [
        {
          "output_type": "execute_result",
          "data": {
            "text/plain": [
              "{0: 'background', 1: 'Bus', 2: 'Truck'}"
            ]
          },
          "metadata": {
            "tags": []
          },
          "execution_count": 6
        }
      ]
    },
    {
      "cell_type": "code",
      "metadata": {
        "id": "4EBmRM0EQl2f"
      },
      "source": [
        "def preprocess_image(img):\n",
        "    img = torch.tensor(img).permute(2,0,1)\n",
        "    return img.to(device).float()"
      ],
      "execution_count": null,
      "outputs": []
    },
    {
      "cell_type": "code",
      "metadata": {
        "id": "0Y5EA9apQ-5X"
      },
      "source": [
        "class OpenDataset(torch.utils.data.Dataset):\n",
        "    w, h = 224, 224\n",
        "    def __init__(self, df, image_dir=IMAGE_ROOT):\n",
        "        self.image_dir = image_dir\n",
        "        self.files = glob.glob(self.image_dir+'/*')\n",
        "        self.df = df\n",
        "        self.image_infos = df.ImageID.unique()\n",
        "    def __getitem__(self, ix):\n",
        "        # load images and masks\n",
        "        image_id = self.image_infos[ix]\n",
        "        img_path = find(image_id, self.files)\n",
        "        img = Image.open(img_path).convert(\"RGB\")\n",
        "        img = np.array(img.resize((self.w, self.h), resample=Image.BILINEAR))/255.\n",
        "        data = df[df['ImageID'] == image_id]\n",
        "        labels = data['LabelName'].values.tolist()\n",
        "        data = data[['XMin','YMin','XMax','YMax']].values\n",
        "        data[:,[0,2]] *= self.w\n",
        "        data[:,[1,3]] *= self.h\n",
        "        boxes = data.astype(np.uint32).tolist() # convert to absolute coordinates\n",
        "        # torch FRCNN expects ground truths as a dictionary of tensors\n",
        "        target = {}\n",
        "        target[\"boxes\"] = torch.Tensor(boxes).float()\n",
        "        target[\"labels\"] = torch.Tensor([label2target[i] for i in labels]).long()\n",
        "        img = preprocess_image(img)\n",
        "        return img, target\n",
        "    def collate_fn(self, batch):\n",
        "        return tuple(zip(*batch)) \n",
        "\n",
        "    def __len__(self):\n",
        "        return len(self.image_infos)"
      ],
      "execution_count": null,
      "outputs": []
    },
    {
      "cell_type": "code",
      "metadata": {
        "id": "i-D46KZAQ-72"
      },
      "source": [
        "from sklearn.model_selection import train_test_split\n",
        "trn_ids, val_ids = train_test_split(df.ImageID.unique(), test_size=0.1, random_state=99)\n",
        "trn_df, val_df = df[df['ImageID'].isin(trn_ids)], df[df['ImageID'].isin(val_ids)]\n",
        "len(trn_df), len(val_df)\n",
        "\n",
        "train_ds = OpenDataset(trn_df)\n",
        "test_ds = OpenDataset(val_df)\n",
        "\n",
        "train_loader = DataLoader(train_ds, batch_size=4, collate_fn=train_ds.collate_fn, drop_last=True)\n",
        "test_loader = DataLoader(test_ds, batch_size=4, collate_fn=test_ds.collate_fn, drop_last=True)"
      ],
      "execution_count": null,
      "outputs": []
    },
    {
      "cell_type": "code",
      "metadata": {
        "id": "X0hJxvDAYtU0"
      },
      "source": [
        "import torchvision\n",
        "from torchvision.models.detection.faster_rcnn import FastRCNNPredictor\n",
        "\n",
        "device = 'cuda' if torch.cuda.is_available() else 'cpu'\n",
        "\n",
        "def get_model():\n",
        "    model = torchvision.models.detection.fasterrcnn_resnet50_fpn(pretrained=True)\n",
        "    in_features = model.roi_heads.box_predictor.cls_score.in_features\n",
        "    model.roi_heads.box_predictor = FastRCNNPredictor(in_features, num_classes)\n",
        "    return model"
      ],
      "execution_count": null,
      "outputs": []
    },
    {
      "cell_type": "code",
      "metadata": {
        "id": "43oM5lvSYtXX"
      },
      "source": [
        "# Defining training and validation functions for a single batch\n",
        "def train_batch(inputs, model, optimizer):\n",
        "    model.train()\n",
        "    input, targets = inputs\n",
        "    input = list(image.to(device) for image in input)\n",
        "    targets = [{k: v.to(device) for k, v in t.items()} for t in targets]\n",
        "    optimizer.zero_grad()\n",
        "    losses = model(input, targets)\n",
        "    loss = sum(loss for loss in losses.values())\n",
        "    loss.backward()\n",
        "    optimizer.step()\n",
        "    return loss, losses\n",
        "\n",
        "@torch.no_grad() # this will disable gradient computation in the function below\n",
        "def validate_batch(inputs, model):\n",
        "    model.train() # to obtain the losses, model needs to be in train mode only. # #Note that here we are not defining the model's forward method \n",
        "#and hence need to work per the way the model class is defined\n",
        "    input, targets = inputs\n",
        "    input = list(image.to(device) for image in input)\n",
        "    targets = [{k: v.to(device) for k, v in t.items()} for t in targets]\n",
        "\n",
        "    optimizer.zero_grad()\n",
        "    losses = model(input, targets)\n",
        "    loss = sum(loss for loss in losses.values())\n",
        "    return loss, losses"
      ],
      "execution_count": null,
      "outputs": []
    },
    {
      "cell_type": "code",
      "metadata": {
        "id": "LZ25qxGGYtaL",
        "colab": {
          "base_uri": "https://localhost:8080/",
          "height": 103,
          "referenced_widgets": [
            "b6992e1fd25944f4b29d1a5cf1c3be82",
            "52c3e61a99a242b2bda07c8236dc72a9",
            "99d5385519934d648aae9c37011949e8",
            "2de5bd8063d44956963c389c358f9ecf",
            "1a51b5fc85274f43863b58085ad43ddf",
            "4a94d6384d55407f8c1f103522e292eb",
            "ed12c26b41134b059382a7636342b8fe",
            "d038bc6b070149c5bb09ea9dd0e269c6"
          ]
        },
        "outputId": "d3198550-3361-40e1-b4c1-1012f96e4f72"
      },
      "source": [
        "model = get_model().to(device)\n",
        "optimizer = torch.optim.SGD(model.parameters(), lr=0.005,\n",
        "                            momentum=0.9, weight_decay=0.0005)\n",
        "n_epochs = 5\n",
        "log = Report(n_epochs)"
      ],
      "execution_count": null,
      "outputs": [
        {
          "output_type": "stream",
          "text": [
            "Downloading: \"https://download.pytorch.org/models/fasterrcnn_resnet50_fpn_coco-258fb6c6.pth\" to /root/.cache/torch/hub/checkpoints/fasterrcnn_resnet50_fpn_coco-258fb6c6.pth\n"
          ],
          "name": "stderr"
        },
        {
          "output_type": "display_data",
          "data": {
            "application/vnd.jupyter.widget-view+json": {
              "model_id": "b6992e1fd25944f4b29d1a5cf1c3be82",
              "version_minor": 0,
              "version_major": 2
            },
            "text/plain": [
              "HBox(children=(FloatProgress(value=0.0, max=167502836.0), HTML(value='')))"
            ]
          },
          "metadata": {
            "tags": []
          }
        },
        {
          "output_type": "stream",
          "text": [
            "\n"
          ],
          "name": "stdout"
        }
      ]
    },
    {
      "cell_type": "code",
      "metadata": {
        "id": "FG0_fwFzQl5p",
        "colab": {
          "base_uri": "https://localhost:8080/"
        },
        "outputId": "bf7fefb6-a76b-43f0-885a-7cc378b8f090"
      },
      "source": [
        "for epoch in range(n_epochs):\n",
        "    _n = len(train_loader)\n",
        "    for ix, inputs in enumerate(train_loader):\n",
        "        loss, losses = train_batch(inputs, model, optimizer)\n",
        "        loc_loss, regr_loss, loss_objectness, loss_rpn_box_reg = \\\n",
        "            [losses[k] for k in ['loss_classifier','loss_box_reg','loss_objectness','loss_rpn_box_reg']]\n",
        "        pos = (epoch + (ix+1)/_n)\n",
        "        log.record(pos, trn_loss=loss.item(), trn_loc_loss=loc_loss.item(), \n",
        "                   trn_regr_loss=regr_loss.item(), trn_objectness_loss=loss_objectness.item(),\n",
        "                   trn_rpn_box_reg_loss=loss_rpn_box_reg.item(), end='\\r')\n",
        "\n",
        "    _n = len(test_loader)\n",
        "    for ix,inputs in enumerate(test_loader):\n",
        "        loss, losses = validate_batch(inputs, model)\n",
        "        loc_loss, regr_loss, loss_objectness, loss_rpn_box_reg = \\\n",
        "          [losses[k] for k in ['loss_classifier','loss_box_reg','loss_objectness','loss_rpn_box_reg']]\n",
        "        pos = (epoch + (ix+1)/_n)\n",
        "        log.record(pos, val_loss=loss.item(), val_loc_loss=loc_loss.item(), \n",
        "                  val_regr_loss=regr_loss.item(), val_objectness_loss=loss_objectness.item(),\n",
        "                  val_rpn_box_reg_loss=loss_rpn_box_reg.item(), end='\\r')\n",
        "    if (epoch+1)%(n_epochs//5)==0: log.report_avgs(epoch+1)"
      ],
      "execution_count": null,
      "outputs": [
        {
          "output_type": "stream",
          "text": [
            "EPOCH: 1.000\ttrn_loss: 0.185\ttrn_loc_loss: 0.076\ttrn_regr_loss: 0.083\ttrn_objectness_loss: 0.017\ttrn_rpn_box_reg_loss: 0.008\tval_loss: 0.170\tval_loc_loss: 0.068\tval_regr_loss: 0.079\tval_objectness_loss: 0.014\tval_rpn_box_reg_loss: 0.009\t(2994.59s - 11978.37s remaining)\n",
            "EPOCH: 1.834\ttrn_loss: 0.077\ttrn_loc_loss: 0.031\ttrn_regr_loss: 0.038\ttrn_objectness_loss: 0.005\ttrn_rpn_box_reg_loss: 0.004\t(5376.19s - 9277.21s remaining)"
          ],
          "name": "stdout"
        }
      ]
    },
    {
      "cell_type": "code",
      "metadata": {
        "id": "yv-f0bK4cwZW"
      },
      "source": [
        "log.plot_epochs(['trn_loss','val_loss'])"
      ],
      "execution_count": null,
      "outputs": []
    },
    {
      "cell_type": "code",
      "metadata": {
        "id": "jcmQKxhacwbU"
      },
      "source": [
        "from torchvision.ops import nms\n",
        "def decode_output(output):\n",
        "    'convert tensors to numpy arrays'\n",
        "    bbs = output['boxes'].cpu().detach().numpy().astype(np.uint16)\n",
        "    labels = np.array([target2label[i] for i in output['labels'].cpu().detach().numpy()])\n",
        "    confs = output['scores'].cpu().detach().numpy()\n",
        "    ixs = nms(torch.tensor(bbs.astype(np.float32)), torch.tensor(confs), 0.05)\n",
        "    bbs, confs, labels = [tensor[ixs] for tensor in [bbs, confs, labels]]\n",
        "\n",
        "    if len(ixs) == 1:\n",
        "        bbs, confs, labels = [np.array([tensor]) for tensor in [bbs, confs, labels]]\n",
        "    return bbs.tolist(), confs.tolist(), labels.tolist()"
      ],
      "execution_count": null,
      "outputs": []
    },
    {
      "cell_type": "code",
      "metadata": {
        "id": "KxDcICavcwd5"
      },
      "source": [
        "model.eval()\n",
        "for ix, (images, targets) in enumerate(test_loader):\n",
        "    if ix==3: break\n",
        "    images = [im for im in images]\n",
        "    outputs = model(images)\n",
        "    for ix, output in enumerate(outputs):\n",
        "        bbs, confs, labels = decode_output(output)\n",
        "        info = [f'{l}@{c:.2f}' for l,c in zip(labels, confs)]\n",
        "        show(images[ix].cpu().permute(1,2,0), bbs=bbs, texts=labels, sz=5)"
      ],
      "execution_count": null,
      "outputs": []
    },
    {
      "cell_type": "code",
      "metadata": {
        "id": "Zogz5Kfhjafk"
      },
      "source": [
        ""
      ],
      "execution_count": null,
      "outputs": []
    },
    {
      "cell_type": "code",
      "metadata": {
        "id": "ojS22HBlcwgU"
      },
      "source": [
        ""
      ],
      "execution_count": null,
      "outputs": []
    }
  ]
}