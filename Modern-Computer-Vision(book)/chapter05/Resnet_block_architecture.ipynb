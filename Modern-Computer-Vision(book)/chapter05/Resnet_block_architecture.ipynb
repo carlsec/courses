{
  "nbformat": 4,
  "nbformat_minor": 0,
  "metadata": {
    "colab": {
      "name": "Resnet_block_architecture.ipynb",
      "provenance": []
    },
    "kernelspec": {
      "name": "python3",
      "display_name": "Python 3"
    }
  },
  "cells": [
    {
      "cell_type": "code",
      "metadata": {
        "id": "5GquoYYsjxWS"
      },
      "source": [
        "import torch\n",
        "from torch import nn"
      ],
      "execution_count": 1,
      "outputs": []
    },
    {
      "cell_type": "code",
      "metadata": {
        "id": "y1qeqWSdjz0B"
      },
      "source": [
        "class ResLayer(nn.Module):\n",
        "    def __init__(self,ni,no,kernel_size,stride=1):\n",
        "        super(ResLayer, self).__init__()\n",
        "        padding = kernel_size - 2\n",
        "        self.conv = nn.Sequential(\n",
        "            nn.Conv2d(ni, no, kernel_size, stride, \n",
        "                      padding=padding),\n",
        "            nn.ReLU()\n",
        "        )\n",
        "\n",
        "    def forward(self, x):\n",
        "        return self.conv(x) + x"
      ],
      "execution_count": 3,
      "outputs": []
    }
  ]
}