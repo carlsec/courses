{
  "nbformat": 4,
  "nbformat_minor": 0,
  "metadata": {
    "colab": {
      "name": "Facial_keypoints_detection.ipynb",
      "provenance": []
    },
    "kernelspec": {
      "name": "python3",
      "display_name": "Python 3"
    },
    "accelerator": "GPU",
    "widgets": {
      "application/vnd.jupyter.widget-state+json": {
        "7c3c0639e6c24d50b3f262305122719e": {
          "model_module": "@jupyter-widgets/controls",
          "model_name": "HBoxModel",
          "state": {
            "_view_name": "HBoxView",
            "_dom_classes": [],
            "_model_name": "HBoxModel",
            "_view_module": "@jupyter-widgets/controls",
            "_model_module_version": "1.5.0",
            "_view_count": null,
            "_view_module_version": "1.5.0",
            "box_style": "",
            "layout": "IPY_MODEL_b91e14cf6eb6405b914c97fca559fc1a",
            "_model_module": "@jupyter-widgets/controls",
            "children": [
              "IPY_MODEL_6332004d9a6246e7bf6b5262cf9ea3d3",
              "IPY_MODEL_b8bd02733c0d440a8423573bd03acd59"
            ]
          }
        },
        "b91e14cf6eb6405b914c97fca559fc1a": {
          "model_module": "@jupyter-widgets/base",
          "model_name": "LayoutModel",
          "state": {
            "_view_name": "LayoutView",
            "grid_template_rows": null,
            "right": null,
            "justify_content": null,
            "_view_module": "@jupyter-widgets/base",
            "overflow": null,
            "_model_module_version": "1.2.0",
            "_view_count": null,
            "flex_flow": null,
            "width": null,
            "min_width": null,
            "border": null,
            "align_items": null,
            "bottom": null,
            "_model_module": "@jupyter-widgets/base",
            "top": null,
            "grid_column": null,
            "overflow_y": null,
            "overflow_x": null,
            "grid_auto_flow": null,
            "grid_area": null,
            "grid_template_columns": null,
            "flex": null,
            "_model_name": "LayoutModel",
            "justify_items": null,
            "grid_row": null,
            "max_height": null,
            "align_content": null,
            "visibility": null,
            "align_self": null,
            "height": null,
            "min_height": null,
            "padding": null,
            "grid_auto_rows": null,
            "grid_gap": null,
            "max_width": null,
            "order": null,
            "_view_module_version": "1.2.0",
            "grid_template_areas": null,
            "object_position": null,
            "object_fit": null,
            "grid_auto_columns": null,
            "margin": null,
            "display": null,
            "left": null
          }
        },
        "6332004d9a6246e7bf6b5262cf9ea3d3": {
          "model_module": "@jupyter-widgets/controls",
          "model_name": "FloatProgressModel",
          "state": {
            "_view_name": "ProgressView",
            "style": "IPY_MODEL_b3fee9cc19e94ef98950168b82e761b9",
            "_dom_classes": [],
            "description": "100%",
            "_model_name": "FloatProgressModel",
            "bar_style": "success",
            "max": 553433881,
            "_view_module": "@jupyter-widgets/controls",
            "_model_module_version": "1.5.0",
            "value": 553433881,
            "_view_count": null,
            "_view_module_version": "1.5.0",
            "orientation": "horizontal",
            "min": 0,
            "description_tooltip": null,
            "_model_module": "@jupyter-widgets/controls",
            "layout": "IPY_MODEL_e8ccc7d3d2cc4e7a90ca8730a5b119d0"
          }
        },
        "b8bd02733c0d440a8423573bd03acd59": {
          "model_module": "@jupyter-widgets/controls",
          "model_name": "HTMLModel",
          "state": {
            "_view_name": "HTMLView",
            "style": "IPY_MODEL_369374b7ab274af69df60dd2f9950910",
            "_dom_classes": [],
            "description": "",
            "_model_name": "HTMLModel",
            "placeholder": "​",
            "_view_module": "@jupyter-widgets/controls",
            "_model_module_version": "1.5.0",
            "value": " 528M/528M [00:13&lt;00:00, 41.9MB/s]",
            "_view_count": null,
            "_view_module_version": "1.5.0",
            "description_tooltip": null,
            "_model_module": "@jupyter-widgets/controls",
            "layout": "IPY_MODEL_3e26803746114c449ea5263d802343f7"
          }
        },
        "b3fee9cc19e94ef98950168b82e761b9": {
          "model_module": "@jupyter-widgets/controls",
          "model_name": "ProgressStyleModel",
          "state": {
            "_view_name": "StyleView",
            "_model_name": "ProgressStyleModel",
            "description_width": "initial",
            "_view_module": "@jupyter-widgets/base",
            "_model_module_version": "1.5.0",
            "_view_count": null,
            "_view_module_version": "1.2.0",
            "bar_color": null,
            "_model_module": "@jupyter-widgets/controls"
          }
        },
        "e8ccc7d3d2cc4e7a90ca8730a5b119d0": {
          "model_module": "@jupyter-widgets/base",
          "model_name": "LayoutModel",
          "state": {
            "_view_name": "LayoutView",
            "grid_template_rows": null,
            "right": null,
            "justify_content": null,
            "_view_module": "@jupyter-widgets/base",
            "overflow": null,
            "_model_module_version": "1.2.0",
            "_view_count": null,
            "flex_flow": null,
            "width": null,
            "min_width": null,
            "border": null,
            "align_items": null,
            "bottom": null,
            "_model_module": "@jupyter-widgets/base",
            "top": null,
            "grid_column": null,
            "overflow_y": null,
            "overflow_x": null,
            "grid_auto_flow": null,
            "grid_area": null,
            "grid_template_columns": null,
            "flex": null,
            "_model_name": "LayoutModel",
            "justify_items": null,
            "grid_row": null,
            "max_height": null,
            "align_content": null,
            "visibility": null,
            "align_self": null,
            "height": null,
            "min_height": null,
            "padding": null,
            "grid_auto_rows": null,
            "grid_gap": null,
            "max_width": null,
            "order": null,
            "_view_module_version": "1.2.0",
            "grid_template_areas": null,
            "object_position": null,
            "object_fit": null,
            "grid_auto_columns": null,
            "margin": null,
            "display": null,
            "left": null
          }
        },
        "369374b7ab274af69df60dd2f9950910": {
          "model_module": "@jupyter-widgets/controls",
          "model_name": "DescriptionStyleModel",
          "state": {
            "_view_name": "StyleView",
            "_model_name": "DescriptionStyleModel",
            "description_width": "",
            "_view_module": "@jupyter-widgets/base",
            "_model_module_version": "1.5.0",
            "_view_count": null,
            "_view_module_version": "1.2.0",
            "_model_module": "@jupyter-widgets/controls"
          }
        },
        "3e26803746114c449ea5263d802343f7": {
          "model_module": "@jupyter-widgets/base",
          "model_name": "LayoutModel",
          "state": {
            "_view_name": "LayoutView",
            "grid_template_rows": null,
            "right": null,
            "justify_content": null,
            "_view_module": "@jupyter-widgets/base",
            "overflow": null,
            "_model_module_version": "1.2.0",
            "_view_count": null,
            "flex_flow": null,
            "width": null,
            "min_width": null,
            "border": null,
            "align_items": null,
            "bottom": null,
            "_model_module": "@jupyter-widgets/base",
            "top": null,
            "grid_column": null,
            "overflow_y": null,
            "overflow_x": null,
            "grid_auto_flow": null,
            "grid_area": null,
            "grid_template_columns": null,
            "flex": null,
            "_model_name": "LayoutModel",
            "justify_items": null,
            "grid_row": null,
            "max_height": null,
            "align_content": null,
            "visibility": null,
            "align_self": null,
            "height": null,
            "min_height": null,
            "padding": null,
            "grid_auto_rows": null,
            "grid_gap": null,
            "max_width": null,
            "order": null,
            "_view_module_version": "1.2.0",
            "grid_template_areas": null,
            "object_position": null,
            "object_fit": null,
            "grid_auto_columns": null,
            "margin": null,
            "display": null,
            "left": null
          }
        }
      }
    }
  },
  "cells": [
    {
      "cell_type": "code",
      "metadata": {
        "id": "U48p13XzmixN"
      },
      "source": [
        "import torchvision\n",
        "import torch.nn as nn\n",
        "import torch\n",
        "import torch.nn.functional as F\n",
        "from torchvision import transforms, models, datasets\n",
        "from torchsummary import summary\n",
        "import numpy as np, pandas as pd, os, glob\n",
        "from mpl_toolkits.mplot3d import Axes3D\n",
        "import matplotlib.pyplot as plt\n",
        "import matplotlib\n",
        "import glob\n",
        "from sklearn import cluster\n",
        "device = 'cuda' if torch.cuda.is_available() else 'cpu'"
      ],
      "execution_count": null,
      "outputs": []
    },
    {
      "cell_type": "code",
      "metadata": {
        "colab": {
          "base_uri": "https://localhost:8080/"
        },
        "id": "40EQ1ddEmj7J",
        "outputId": "7a68c999-7f70-40dd-848a-499a353ce89c"
      },
      "source": [
        "!git clone https://github.com/udacity/P1_Facial_Keypoints.git\n",
        "!cd P1_Facial_Keypoints\n",
        "root_dir = 'P1_Facial_Keypoints/data/training/'\n",
        "all_img_paths = glob.glob(os.path.join(root_dir, '*.jpg'))\n",
        "data = pd.read_csv('P1_Facial_Keypoints/data/training_frames_keypoints.csv')"
      ],
      "execution_count": null,
      "outputs": [
        {
          "output_type": "stream",
          "text": [
            "Cloning into 'P1_Facial_Keypoints'...\n",
            "remote: Enumerating objects: 5984, done.\u001b[K\n",
            "remote: Total 5984 (delta 0), reused 0 (delta 0), pack-reused 5984\u001b[K\n",
            "Receiving objects: 100% (5984/5984), 329.49 MiB | 34.17 MiB/s, done.\n",
            "Resolving deltas: 100% (126/126), done.\n",
            "Checking out files: 100% (5803/5803), done.\n"
          ],
          "name": "stdout"
        }
      ]
    },
    {
      "cell_type": "code",
      "metadata": {
        "id": "_Pt3fNnFmj91"
      },
      "source": [
        "from torch.utils.data import TensorDataset, DataLoader, Dataset\n",
        "import cv2, numpy as np\n",
        "from copy import deepcopy\n",
        "class FacesData(Dataset):\n",
        "    def __init__(self, df):\n",
        "        super(FacesData).__init__()\n",
        "        self.df = df\n",
        "        self.normalize = transforms.Normalize(mean=[0.485, 0.456, 0.406],\n",
        "                                              std=[0.229, 0.224, 0.225])\n",
        "    def __len__(self): return len(self.df)\n",
        "    def __getitem__(self, ix):\n",
        "        img_path = 'P1_Facial_Keypoints/data/training/' + self.df.iloc[ix,0]\n",
        "        img = cv2.imread(img_path)/255.\n",
        "        kp = deepcopy(self.df.iloc[ix,1:].tolist())\n",
        "        kp_x = (np.array(kp[0::2])/img.shape[1]).tolist()\n",
        "        kp_y = (np.array(kp[1::2])/img.shape[0]).tolist()\n",
        "        kp2 = kp_x + kp_y\n",
        "        kp2 = torch.tensor(kp2) \n",
        "        img = self.preprocess_input(img)\n",
        "        return img, kp2\n",
        "    def preprocess_input(self, img):\n",
        "        img = cv2.resize(img, (224,224))\n",
        "        img = torch.tensor(img).permute(2,0,1)\n",
        "        img = self.normalize(img).float()\n",
        "        return img.to(device)\n",
        "    def load_img(self, ix):\n",
        "        img_path = 'P1_Facial_Keypoints/data/training/' + self.df.iloc[ix,0]        \n",
        "        img = cv2.imread(img_path)\n",
        "        img =cv2.cvtColor(img, cv2.COLOR_BGR2RGB)/255.\n",
        "        img = cv2.resize(img, (224,224))\n",
        "        return img\n"
      ],
      "execution_count": null,
      "outputs": []
    },
    {
      "cell_type": "code",
      "metadata": {
        "id": "HpC331LZmziE"
      },
      "source": [
        "from sklearn.model_selection import train_test_split\n",
        "\n",
        "train, test = train_test_split(data, test_size=0.2, random_state=101)\n",
        "train_dataset = FacesData(train.reset_index(drop=True))\n",
        "test_dataset = FacesData(test.reset_index(drop=True))\n",
        "\n",
        "train_loader = DataLoader(train_dataset, batch_size=32)\n",
        "test_loader = DataLoader(test_dataset, batch_size=32)"
      ],
      "execution_count": null,
      "outputs": []
    },
    {
      "cell_type": "code",
      "metadata": {
        "id": "e3tCIK2Qmzky"
      },
      "source": [
        "def get_model():\n",
        "    model = models.vgg16(pretrained=True)\n",
        "    for param in model.parameters():\n",
        "        param.requires_grad = False\n",
        "    model.avgpool = nn.Sequential( nn.Conv2d(512,512,3),\n",
        "      nn.MaxPool2d(2),\n",
        "      nn.Flatten())\n",
        "    model.classifier = nn.Sequential(\n",
        "      nn.Linear(2048, 512),\n",
        "      nn.ReLU(),\n",
        "      nn.Dropout(0.5),\n",
        "      nn.Linear(512, 136),\n",
        "      nn.Sigmoid()\n",
        "    )\n",
        "    criterion = nn.L1Loss()\n",
        "    optimizer = torch.optim.Adam(model.parameters(), lr=1e-4)\n",
        "    return model.to(device), criterion, optimizer"
      ],
      "execution_count": null,
      "outputs": []
    },
    {
      "cell_type": "code",
      "metadata": {
        "colab": {
          "base_uri": "https://localhost:8080/",
          "height": 83,
          "referenced_widgets": [
            "7c3c0639e6c24d50b3f262305122719e",
            "b91e14cf6eb6405b914c97fca559fc1a",
            "6332004d9a6246e7bf6b5262cf9ea3d3",
            "b8bd02733c0d440a8423573bd03acd59",
            "b3fee9cc19e94ef98950168b82e761b9",
            "e8ccc7d3d2cc4e7a90ca8730a5b119d0",
            "369374b7ab274af69df60dd2f9950910",
            "3e26803746114c449ea5263d802343f7"
          ]
        },
        "id": "nFcMh2M4mzne",
        "outputId": "502201e6-4470-4a9d-f5c8-a09f200a3f5d"
      },
      "source": [
        "model, criterion, optimizer = get_model()"
      ],
      "execution_count": null,
      "outputs": [
        {
          "output_type": "stream",
          "text": [
            "Downloading: \"https://download.pytorch.org/models/vgg16-397923af.pth\" to /root/.cache/torch/hub/checkpoints/vgg16-397923af.pth\n"
          ],
          "name": "stderr"
        },
        {
          "output_type": "display_data",
          "data": {
            "application/vnd.jupyter.widget-view+json": {
              "model_id": "7c3c0639e6c24d50b3f262305122719e",
              "version_minor": 0,
              "version_major": 2
            },
            "text/plain": [
              "HBox(children=(FloatProgress(value=0.0, max=553433881.0), HTML(value='')))"
            ]
          },
          "metadata": {
            "tags": []
          }
        },
        {
          "output_type": "stream",
          "text": [
            "\n"
          ],
          "name": "stdout"
        }
      ]
    },
    {
      "cell_type": "code",
      "metadata": {
        "id": "4l1WYgYXm_7L"
      },
      "source": [
        "def train_batch(img, kps, model, optimizer, criterion):\n",
        "    model.train()\n",
        "    optimizer.zero_grad()\n",
        "    _kps = model(img.to(device))\n",
        "    loss = criterion(_kps, kps.to(device))\n",
        "    loss.backward()\n",
        "    optimizer.step()\n",
        "    return loss"
      ],
      "execution_count": null,
      "outputs": []
    },
    {
      "cell_type": "code",
      "metadata": {
        "id": "gEPhzSmBm_9y"
      },
      "source": [
        "@torch.no_grad()\n",
        "def validate_batch(img, kps, model, criterion):\n",
        "    model.eval()\n",
        "    _kps = model(img.to(device))\n",
        "    loss = criterion(_kps, kps.to(device))\n",
        "    return _kps, loss"
      ],
      "execution_count": null,
      "outputs": []
    },
    {
      "cell_type": "code",
      "metadata": {
        "colab": {
          "base_uri": "https://localhost:8080/"
        },
        "id": "7AsAEn60mzqY",
        "outputId": "b99eb605-4f7a-460a-eaaa-a9fdadb8808c"
      },
      "source": [
        "train_loss, test_loss = [], []\n",
        "n_epochs = 15\n",
        "\n",
        "for epoch in range(n_epochs):\n",
        "    print(f\" epoch {epoch+ 1} : 15\")\n",
        "    epoch_train_loss, epoch_test_loss = 0, 0\n",
        "    for ix, (img,kps) in enumerate(train_loader):\n",
        "        loss = train_batch(img, kps, model, optimizer, criterion)\n",
        "        epoch_train_loss += loss.item() \n",
        "    epoch_train_loss /= (ix+1)\n",
        "\n",
        "    for ix,(img,kps) in enumerate(test_loader):\n",
        "        ps, loss = validate_batch(img, kps, model, criterion)\n",
        "        epoch_test_loss += loss.item() \n",
        "    epoch_test_loss /= (ix+1)\n",
        "\n",
        "    train_loss.append(epoch_train_loss)\n",
        "    test_loss.append(epoch_test_loss)"
      ],
      "execution_count": null,
      "outputs": [
        {
          "output_type": "stream",
          "text": [
            " epoch 1 : 15\n",
            " epoch 2 : 15\n",
            " epoch 3 : 15\n",
            " epoch 4 : 15\n",
            " epoch 5 : 15\n",
            " epoch 6 : 15\n",
            " epoch 7 : 15\n",
            " epoch 8 : 15\n",
            " epoch 9 : 15\n",
            " epoch 10 : 15\n",
            " epoch 11 : 15\n",
            " epoch 12 : 15\n",
            " epoch 13 : 15\n",
            " epoch 14 : 15\n",
            " epoch 15 : 15\n"
          ],
          "name": "stdout"
        }
      ]
    },
    {
      "cell_type": "code",
      "metadata": {
        "colab": {
          "base_uri": "https://localhost:8080/"
        },
        "id": "XWgqb8EimkAa",
        "outputId": "68c1ad87-ad1c-4866-884d-973582f9b350"
      },
      "source": [
        "epochs = np.arange(15)+1\n",
        "import matplotlib.ticker as mtick\n",
        "import matplotlib.pyplot as plt\n",
        "import matplotlib.ticker as mticker\n",
        "%matplotlib inline\n",
        "plt.plot(epochs, train_loss, 'bo', label='Training loss')\n",
        "plt.plot(epochs, test_loss, 'r', label='Test loss')\n",
        "plt.title('Training and Test loss over increasing epochs')\n",
        "plt.xlabel('Epochs')\n",
        "plt.ylabel('Loss')\n",
        "plt.legend()\n",
        "plt.grid('off')\n",
        "plt.show()"
      ],
      "execution_count": null,
      "outputs": [
        {
          "output_type": "display_data",
          "data": {
            "image/png": "[encoded data removed]",
            "text/plain": [
              "<Figure size 432x288 with 1 Axes>"
            ]
          },
          "metadata": {
            "tags": [],
            "needs_background": "light"
          }
        }
      ]
    },
    {
      "cell_type": "code",
      "metadata": {
        "id": "qFX7fATcnK1n"
      },
      "source": [
        "ix = 0\n",
        "plt.figure(figsize=(10,10))\n",
        "plt.subplot(221)\n",
        "plt.title('Original image')\n",
        "im = test_dataset.load_img(ix)\n",
        "plt.imshow(im)\n",
        "plt.grid(False)\n",
        "plt.subplot(222)\n",
        "plt.title('Image with facial keypoints')\n",
        "x, _ = test_dataset[ix]\n",
        "plt.imshow(im)\n",
        "kp = model(x[None]).flatten().detach().cpu()\n",
        "plt.scatter(kp[:68]*224, kp[68:]*224, c='r')\n",
        "plt.grid(False)\n",
        "plt.show()"
      ],
      "execution_count": null,
      "outputs": []
    },
    {
      "cell_type": "code",
      "metadata": {
        "id": "OxMsoYtqnK4Y"
      },
      "source": [
        ""
      ],
      "execution_count": null,
      "outputs": []
    }
  ]
}