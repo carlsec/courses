{
 "cells": [
  {
   "cell_type": "code",
   "execution_count": null,
   "id": "worthy-preview",
   "metadata": {},
   "outputs": [],
   "source": [
    "import numpy as np\n",
    "def feed_forward(inputs, outputs, weights):       \n",
    "    pre_hidden = np.dot(inputs,weights[0])+ weights[1]\n",
    "    hidden = 1/(1+np.exp(-pre_hidden))\n",
    "    pred_out = np.dot(hidden, weights[2]) + weights[3]\n",
    "    mean_squared_error = np.mean(np.square(pred_out - outputs))\n",
    "    return mean_squared_error"
   ]
  }
 ],
 "metadata": {
  "kernelspec": {
   "display_name": "Python 3",
   "language": "python",
   "name": "python3"
  },
  "language_info": {
   "codemirror_mode": {
    "name": "ipython",
    "version": 3
   },
   "file_extension": ".py",
   "mimetype": "text/x-python",
   "name": "python",
   "nbconvert_exporter": "python",
   "pygments_lexer": "ipython3",
   "version": "3.8.5"
  }
 },
 "nbformat": 4,
 "nbformat_minor": 5
}
