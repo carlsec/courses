{
 "cells": [
  {
   "cell_type": "code",
   "execution_count": 3,
   "id": "sitting-zimbabwe",
   "metadata": {},
   "outputs": [],
   "source": [
    "import torch\n",
    "import torch.nn as nn"
   ]
  },
  {
   "cell_type": "code",
   "execution_count": 4,
   "id": "incredible-spare",
   "metadata": {},
   "outputs": [],
   "source": [
    "x = [[1,2],[3,4],[5,6],[7,8]]\n",
    "y = [[3],[7],[11],[15]]"
   ]
  },
  {
   "cell_type": "code",
   "execution_count": 5,
   "id": "decreased-formula",
   "metadata": {},
   "outputs": [],
   "source": [
    "X = torch.tensor(x).float()\n",
    "Y = torch.tensor(y).float()"
   ]
  },
  {
   "cell_type": "code",
   "execution_count": 6,
   "id": "hollow-investigation",
   "metadata": {},
   "outputs": [],
   "source": [
    "device = 'cuda' if torch.cuda.is_available() else 'cpu'\n",
    "X = X.to(device)\n",
    "Y = Y.to(device)"
   ]
  },
  {
   "cell_type": "code",
   "execution_count": 7,
   "id": "massive-cookie",
   "metadata": {},
   "outputs": [],
   "source": [
    "class neuralnet(nn.Module):\n",
    "    def __init__(self):\n",
    "        super().__init__()\n",
    "        self.input_to_hidden_layer = nn.Linear(2,8)\n",
    "        self.hidden_layer_activation = nn.ReLU()\n",
    "        self.hidden_to_output_layer = nn.Linear(8,1)\n",
    "    def forward(self, x):\n",
    "        hidden1 = self.input_to_hidden_layer(x)\n",
    "        hidden2 = self.hidden_layer_activation(hidden1)\n",
    "        output = self.hidden_to_output_layer(hidden2)\n",
    "        return output, hidden2"
   ]
  },
  {
   "cell_type": "code",
   "execution_count": 12,
   "id": "differential-princeton",
   "metadata": {},
   "outputs": [
    {
     "data": {
      "text/plain": [
       "tensor([[0.0000, 0.1583, 0.0000, 1.2156, 1.1595, 0.0000, 0.9937, 0.0000],\n",
       "        [0.0000, 0.1281, 0.0000, 2.0304, 2.2344, 0.0000, 0.9415, 0.0000],\n",
       "        [0.0000, 0.0979, 0.0000, 2.8453, 3.3092, 0.0000, 0.8893, 0.0000],\n",
       "        [0.0000, 0.0676, 0.0000, 3.6601, 4.3840, 0.0000, 0.8372, 0.0000]],\n",
       "       device='cuda:0', grad_fn=<ReluBackward0>)"
      ]
     },
     "execution_count": 12,
     "metadata": {},
     "output_type": "execute_result"
    }
   ],
   "source": [
    "mynet = neuralnet().to(device)\n",
    "mynet(X)[1]"
   ]
  },
  {
   "cell_type": "code",
   "execution_count": null,
   "id": "distinct-maryland",
   "metadata": {},
   "outputs": [],
   "source": []
  }
 ],
 "metadata": {
  "kernelspec": {
   "display_name": "Python 3",
   "language": "python",
   "name": "python3"
  },
  "language_info": {
   "codemirror_mode": {
    "name": "ipython",
    "version": 3
   },
   "file_extension": ".py",
   "mimetype": "text/x-python",
   "name": "python",
   "nbconvert_exporter": "python",
   "pygments_lexer": "ipython3",
   "version": "3.8.5"
  }
 },
 "nbformat": 4,
 "nbformat_minor": 5
}
