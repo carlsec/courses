{
 "cells": [
  {
   "cell_type": "code",
   "execution_count": 1,
   "id": "rapid-modern",
   "metadata": {},
   "outputs": [],
   "source": [
    "import torch\n",
    "x = torch.tensor([[1,2]])\n",
    "y = torch.tensor([[1],[2]])"
   ]
  },
  {
   "cell_type": "code",
   "execution_count": 2,
   "id": "amazing-notification",
   "metadata": {},
   "outputs": [
    {
     "name": "stdout",
     "output_type": "stream",
     "text": [
      "torch.Size([1, 2])\n",
      "torch.Size([2, 1])\n",
      "torch.int64\n"
     ]
    }
   ],
   "source": [
    "print(x.shape)\n",
    "# torch.Size([1,2]) # one entity of two items\n",
    "print(y.shape)\n",
    "# torch.Size([2,1]) # two entities of one item each\n",
    "print(x.dtype)\n",
    "# torch.int64"
   ]
  },
  {
   "cell_type": "code",
   "execution_count": 3,
   "id": "arabic-magazine",
   "metadata": {},
   "outputs": [
    {
     "name": "stdout",
     "output_type": "stream",
     "text": [
      "tensor([0., 1., 2.])\n"
     ]
    }
   ],
   "source": [
    "x = torch.tensor([False, 1, 2.0])\n",
    "print(x)\n",
    "# tensor([0., 1., 2.])"
   ]
  },
  {
   "cell_type": "code",
   "execution_count": 4,
   "id": "perfect-dress",
   "metadata": {},
   "outputs": [
    {
     "data": {
      "text/plain": [
       "tensor([[0., 0., 0., 0.],\n",
       "        [0., 0., 0., 0.],\n",
       "        [0., 0., 0., 0.]])"
      ]
     },
     "execution_count": 4,
     "metadata": {},
     "output_type": "execute_result"
    }
   ],
   "source": [
    "torch.zeros((3, 4))"
   ]
  },
  {
   "cell_type": "code",
   "execution_count": 5,
   "id": "associate-touch",
   "metadata": {},
   "outputs": [
    {
     "data": {
      "text/plain": [
       "tensor([[1., 1., 1., 1.],\n",
       "        [1., 1., 1., 1.],\n",
       "        [1., 1., 1., 1.]])"
      ]
     },
     "execution_count": 5,
     "metadata": {},
     "output_type": "execute_result"
    }
   ],
   "source": [
    "torch.ones((3, 4))"
   ]
  },
  {
   "cell_type": "code",
   "execution_count": 6,
   "id": "coated-prison",
   "metadata": {},
   "outputs": [
    {
     "data": {
      "text/plain": [
       "tensor([[1, 0, 0, 1],\n",
       "        [2, 8, 6, 6],\n",
       "        [1, 0, 8, 7]])"
      ]
     },
     "execution_count": 6,
     "metadata": {},
     "output_type": "execute_result"
    }
   ],
   "source": [
    "torch.randint(low=0, high=10, size=(3,4))"
   ]
  },
  {
   "cell_type": "code",
   "execution_count": 7,
   "id": "southeast-person",
   "metadata": {},
   "outputs": [
    {
     "data": {
      "text/plain": [
       "tensor([[0.6802, 0.5746, 0.0774, 0.0490],\n",
       "        [0.2739, 0.3700, 0.8214, 0.1752],\n",
       "        [0.0507, 0.6003, 0.6294, 0.8248]])"
      ]
     },
     "execution_count": 7,
     "metadata": {},
     "output_type": "execute_result"
    }
   ],
   "source": [
    "torch.rand(3, 4)"
   ]
  },
  {
   "cell_type": "code",
   "execution_count": 8,
   "id": "responsible-registration",
   "metadata": {},
   "outputs": [
    {
     "data": {
      "text/plain": [
       "tensor([[-1.7149, -0.7261, -1.2183,  0.7695],\n",
       "        [-0.7582, -0.9010,  0.9488,  0.7523],\n",
       "        [ 1.0816,  0.8895, -0.9933, -0.6069]])"
      ]
     },
     "execution_count": 8,
     "metadata": {},
     "output_type": "execute_result"
    }
   ],
   "source": [
    "torch.randn((3,4))"
   ]
  },
  {
   "cell_type": "code",
   "execution_count": 9,
   "id": "comprehensive-biotechnology",
   "metadata": {},
   "outputs": [
    {
     "name": "stdout",
     "output_type": "stream",
     "text": [
      "<class 'numpy.ndarray'> <class 'torch.Tensor'>\n"
     ]
    }
   ],
   "source": [
    "import numpy as np\n",
    "x = np.array([[10,20,30],[2,3,4]])\n",
    "y = torch.tensor(x)\n",
    "print(type(x), type(y))"
   ]
  },
  {
   "cell_type": "code",
   "execution_count": null,
   "id": "continent-experience",
   "metadata": {},
   "outputs": [],
   "source": []
  }
 ],
 "metadata": {
  "kernelspec": {
   "display_name": "Python 3",
   "language": "python",
   "name": "python3"
  },
  "language_info": {
   "codemirror_mode": {
    "name": "ipython",
    "version": 3
   },
   "file_extension": ".py",
   "mimetype": "text/x-python",
   "name": "python",
   "nbconvert_exporter": "python",
   "pygments_lexer": "ipython3",
   "version": "3.8.5"
  }
 },
 "nbformat": 4,
 "nbformat_minor": 5
}
